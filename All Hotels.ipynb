{
 "cells": [
  {
   "cell_type": "code",
   "execution_count": 13,
   "id": "6df54418",
   "metadata": {},
   "outputs": [],
   "source": [
    "from selenium import webdriver\n",
    "from bs4 import BeautifulSoup\n",
    "from time import sleep\n",
    "import pandas as pd \n",
    "import csv\n",
    "from itertools import zip_longest"
   ]
  },
  {
   "cell_type": "markdown",
   "id": "f25595f6",
   "metadata": {},
   "source": [
    "# URLS\n"
   ]
  },
  {
   "cell_type": "code",
   "execution_count": 14,
   "id": "05bc2a11",
   "metadata": {},
   "outputs": [],
   "source": [
    "#Scraping URLS\n",
    "def get_all_pagesU():\n",
    "    urls=[]\n",
    "    page_number=0\n",
    "    for i in range(5):\n",
    "        i=f\"https://www.booking.com/searchresults.fr.html?label=gen173nr-1FCAEoggI46AdIM1gEaIwBiAEBmAENuAEXyAEM2AEB6AEB-AELiAIBqAIDuAKWkpGbBsACAdICJDNjMmNmNmRkLThjNmUtNDMzOS1iYTBiLTZjNjdiNDE2MjE4OdgCBuACAQ&sid=4151851a79ba47c90a251a187258e784&aid=304142&sb=1&sb_lp=1&src=index&src_elem=sb&error_url=https%3A%2F%2Fwww.booking.com%2Findex.fr.html%3Flabel%3Dgen173nr-1FCAEoggI46AdIM1gEaIwBiAEBmAENuAEXyAEM2AEB6AEB-AELiAIBqAIDuAKWkpGbBsACAdICJDNjMmNmNmRkLThjNmUtNDMzOS1iYTBiLTZjNjdiNDE2MjE4OdgCBuACAQ%26sid%3D4151851a79ba47c90a251a187258e784%26sb_price_type%3Dtotal%26%26&ss=Marrakech%2C+Marrakech-Tensift-Haouz%2C+Maroc&is_ski_area=&checkin_year=&checkin_month=&checkout_year=&checkout_month=&efdco=1&group_adults=2&group_children=0&no_rooms=1&b_h4u_keep_filters=&from_sf=1&ss_raw=Marrakech&ac_position=0&ac_langcode=fr&ac_click_type=b&ac_meta=GhAyOGVlYTI0YjQ5MWIwMTBkIAAoATICZnI6CU1hcnJha2VjaEAASgBQAA%3D%3D&dest_id=-38833&dest_type=city&iata=RAK&place_id_lat=31.62821&place_id_lon=-8.000632&search_pageview_id=28eea24b491b010d&search_selected=true&search_pageview_id=28eea24b491b010d&ac_suggestion_list_length=5&ac_suggestion_theme_list_length=0&offset={page_number}\"\n",
    "        page_number+=25\n",
    "        urls.append(i)\n",
    "    return urls"
   ]
  },
  {
   "cell_type": "code",
   "execution_count": 15,
   "id": "d0c40013",
   "metadata": {},
   "outputs": [],
   "source": [
    "#links1=[]\n",
    "links=[]"
   ]
  },
  {
   "cell_type": "code",
   "execution_count": 1,
   "id": "dcb26c41",
   "metadata": {},
   "outputs": [],
   "source": [
    "def parseU(url):\n",
    "    options=webdriver.ChromeOptions()\n",
    "    #options.add_arguments('/content/chromedrvier.exe')\n",
    "    options.add_argument('--incognito')\n",
    "    driver=webdriver.Chrome(options=options)\n",
    "    driver.get(url)\n",
    "    src=driver.page_source\n",
    "    soup=BeautifulSoup(src,'html.parser')\n",
    "    lists=soup.find_all('div',{'class':'oan6tk-0 dLOfLV'})        \n",
    "    \n",
    "    for list_ in lists:\n",
    "        try:\n",
    "            link=list_.find('a').get('href')\n",
    "        except AttributeError as e:\n",
    "            link=\"\"\n",
    "        links.append(link)   \n",
    "            \n",
    "        '''links2.append(link)\n",
    "    links1.append(links2)\n",
    "    for sublist in links1:\n",
    "        for l in sublist: #sublist is links2\n",
    "            links.append(l)'''\n",
    "        \n",
    "    "
   ]
  },
  {
   "cell_type": "code",
   "execution_count": 17,
   "id": "9374bc47",
   "metadata": {},
   "outputs": [],
   "source": [
    "def parse_allU():\n",
    "    pages=get_all_pagesU()\n",
    "    for page in pages:\n",
    "        print(f\"On scrape{page}\")\n",
    "        parseU(url=page)"
   ]
  },
  {
   "cell_type": "code",
   "execution_count": 18,
   "id": "3ed3f7ca",
   "metadata": {},
   "outputs": [
    {
     "name": "stdout",
     "output_type": "stream",
     "text": [
      "On scrapehttps://www.booking.com/searchresults.fr.html?label=gen173nr-1FCAEoggI46AdIM1gEaIwBiAEBmAENuAEXyAEM2AEB6AEB-AELiAIBqAIDuAKWkpGbBsACAdICJDNjMmNmNmRkLThjNmUtNDMzOS1iYTBiLTZjNjdiNDE2MjE4OdgCBuACAQ&sid=4151851a79ba47c90a251a187258e784&aid=304142&sb=1&sb_lp=1&src=index&src_elem=sb&error_url=https%3A%2F%2Fwww.booking.com%2Findex.fr.html%3Flabel%3Dgen173nr-1FCAEoggI46AdIM1gEaIwBiAEBmAENuAEXyAEM2AEB6AEB-AELiAIBqAIDuAKWkpGbBsACAdICJDNjMmNmNmRkLThjNmUtNDMzOS1iYTBiLTZjNjdiNDE2MjE4OdgCBuACAQ%26sid%3D4151851a79ba47c90a251a187258e784%26sb_price_type%3Dtotal%26%26&ss=Marrakech%2C+Marrakech-Tensift-Haouz%2C+Maroc&is_ski_area=&checkin_year=&checkin_month=&checkout_year=&checkout_month=&efdco=1&group_adults=2&group_children=0&no_rooms=1&b_h4u_keep_filters=&from_sf=1&ss_raw=Marrakech&ac_position=0&ac_langcode=fr&ac_click_type=b&ac_meta=GhAyOGVlYTI0YjQ5MWIwMTBkIAAoATICZnI6CU1hcnJha2VjaEAASgBQAA%3D%3D&dest_id=-38833&dest_type=city&iata=RAK&place_id_lat=31.62821&place_id_lon=-8.000632&search_pageview_id=28eea24b491b010d&search_selected=true&search_pageview_id=28eea24b491b010d&ac_suggestion_list_length=5&ac_suggestion_theme_list_length=0&offset=0\n",
      "On scrapehttps://www.booking.com/searchresults.fr.html?label=gen173nr-1FCAEoggI46AdIM1gEaIwBiAEBmAENuAEXyAEM2AEB6AEB-AELiAIBqAIDuAKWkpGbBsACAdICJDNjMmNmNmRkLThjNmUtNDMzOS1iYTBiLTZjNjdiNDE2MjE4OdgCBuACAQ&sid=4151851a79ba47c90a251a187258e784&aid=304142&sb=1&sb_lp=1&src=index&src_elem=sb&error_url=https%3A%2F%2Fwww.booking.com%2Findex.fr.html%3Flabel%3Dgen173nr-1FCAEoggI46AdIM1gEaIwBiAEBmAENuAEXyAEM2AEB6AEB-AELiAIBqAIDuAKWkpGbBsACAdICJDNjMmNmNmRkLThjNmUtNDMzOS1iYTBiLTZjNjdiNDE2MjE4OdgCBuACAQ%26sid%3D4151851a79ba47c90a251a187258e784%26sb_price_type%3Dtotal%26%26&ss=Marrakech%2C+Marrakech-Tensift-Haouz%2C+Maroc&is_ski_area=&checkin_year=&checkin_month=&checkout_year=&checkout_month=&efdco=1&group_adults=2&group_children=0&no_rooms=1&b_h4u_keep_filters=&from_sf=1&ss_raw=Marrakech&ac_position=0&ac_langcode=fr&ac_click_type=b&ac_meta=GhAyOGVlYTI0YjQ5MWIwMTBkIAAoATICZnI6CU1hcnJha2VjaEAASgBQAA%3D%3D&dest_id=-38833&dest_type=city&iata=RAK&place_id_lat=31.62821&place_id_lon=-8.000632&search_pageview_id=28eea24b491b010d&search_selected=true&search_pageview_id=28eea24b491b010d&ac_suggestion_list_length=5&ac_suggestion_theme_list_length=0&offset=25\n",
      "On scrapehttps://www.booking.com/searchresults.fr.html?label=gen173nr-1FCAEoggI46AdIM1gEaIwBiAEBmAENuAEXyAEM2AEB6AEB-AELiAIBqAIDuAKWkpGbBsACAdICJDNjMmNmNmRkLThjNmUtNDMzOS1iYTBiLTZjNjdiNDE2MjE4OdgCBuACAQ&sid=4151851a79ba47c90a251a187258e784&aid=304142&sb=1&sb_lp=1&src=index&src_elem=sb&error_url=https%3A%2F%2Fwww.booking.com%2Findex.fr.html%3Flabel%3Dgen173nr-1FCAEoggI46AdIM1gEaIwBiAEBmAENuAEXyAEM2AEB6AEB-AELiAIBqAIDuAKWkpGbBsACAdICJDNjMmNmNmRkLThjNmUtNDMzOS1iYTBiLTZjNjdiNDE2MjE4OdgCBuACAQ%26sid%3D4151851a79ba47c90a251a187258e784%26sb_price_type%3Dtotal%26%26&ss=Marrakech%2C+Marrakech-Tensift-Haouz%2C+Maroc&is_ski_area=&checkin_year=&checkin_month=&checkout_year=&checkout_month=&efdco=1&group_adults=2&group_children=0&no_rooms=1&b_h4u_keep_filters=&from_sf=1&ss_raw=Marrakech&ac_position=0&ac_langcode=fr&ac_click_type=b&ac_meta=GhAyOGVlYTI0YjQ5MWIwMTBkIAAoATICZnI6CU1hcnJha2VjaEAASgBQAA%3D%3D&dest_id=-38833&dest_type=city&iata=RAK&place_id_lat=31.62821&place_id_lon=-8.000632&search_pageview_id=28eea24b491b010d&search_selected=true&search_pageview_id=28eea24b491b010d&ac_suggestion_list_length=5&ac_suggestion_theme_list_length=0&offset=50\n",
      "On scrapehttps://www.booking.com/searchresults.fr.html?label=gen173nr-1FCAEoggI46AdIM1gEaIwBiAEBmAENuAEXyAEM2AEB6AEB-AELiAIBqAIDuAKWkpGbBsACAdICJDNjMmNmNmRkLThjNmUtNDMzOS1iYTBiLTZjNjdiNDE2MjE4OdgCBuACAQ&sid=4151851a79ba47c90a251a187258e784&aid=304142&sb=1&sb_lp=1&src=index&src_elem=sb&error_url=https%3A%2F%2Fwww.booking.com%2Findex.fr.html%3Flabel%3Dgen173nr-1FCAEoggI46AdIM1gEaIwBiAEBmAENuAEXyAEM2AEB6AEB-AELiAIBqAIDuAKWkpGbBsACAdICJDNjMmNmNmRkLThjNmUtNDMzOS1iYTBiLTZjNjdiNDE2MjE4OdgCBuACAQ%26sid%3D4151851a79ba47c90a251a187258e784%26sb_price_type%3Dtotal%26%26&ss=Marrakech%2C+Marrakech-Tensift-Haouz%2C+Maroc&is_ski_area=&checkin_year=&checkin_month=&checkout_year=&checkout_month=&efdco=1&group_adults=2&group_children=0&no_rooms=1&b_h4u_keep_filters=&from_sf=1&ss_raw=Marrakech&ac_position=0&ac_langcode=fr&ac_click_type=b&ac_meta=GhAyOGVlYTI0YjQ5MWIwMTBkIAAoATICZnI6CU1hcnJha2VjaEAASgBQAA%3D%3D&dest_id=-38833&dest_type=city&iata=RAK&place_id_lat=31.62821&place_id_lon=-8.000632&search_pageview_id=28eea24b491b010d&search_selected=true&search_pageview_id=28eea24b491b010d&ac_suggestion_list_length=5&ac_suggestion_theme_list_length=0&offset=75\n",
      "On scrapehttps://www.booking.com/searchresults.fr.html?label=gen173nr-1FCAEoggI46AdIM1gEaIwBiAEBmAENuAEXyAEM2AEB6AEB-AELiAIBqAIDuAKWkpGbBsACAdICJDNjMmNmNmRkLThjNmUtNDMzOS1iYTBiLTZjNjdiNDE2MjE4OdgCBuACAQ&sid=4151851a79ba47c90a251a187258e784&aid=304142&sb=1&sb_lp=1&src=index&src_elem=sb&error_url=https%3A%2F%2Fwww.booking.com%2Findex.fr.html%3Flabel%3Dgen173nr-1FCAEoggI46AdIM1gEaIwBiAEBmAENuAEXyAEM2AEB6AEB-AELiAIBqAIDuAKWkpGbBsACAdICJDNjMmNmNmRkLThjNmUtNDMzOS1iYTBiLTZjNjdiNDE2MjE4OdgCBuACAQ%26sid%3D4151851a79ba47c90a251a187258e784%26sb_price_type%3Dtotal%26%26&ss=Marrakech%2C+Marrakech-Tensift-Haouz%2C+Maroc&is_ski_area=&checkin_year=&checkin_month=&checkout_year=&checkout_month=&efdco=1&group_adults=2&group_children=0&no_rooms=1&b_h4u_keep_filters=&from_sf=1&ss_raw=Marrakech&ac_position=0&ac_langcode=fr&ac_click_type=b&ac_meta=GhAyOGVlYTI0YjQ5MWIwMTBkIAAoATICZnI6CU1hcnJha2VjaEAASgBQAA%3D%3D&dest_id=-38833&dest_type=city&iata=RAK&place_id_lat=31.62821&place_id_lon=-8.000632&search_pageview_id=28eea24b491b010d&search_selected=true&search_pageview_id=28eea24b491b010d&ac_suggestion_list_length=5&ac_suggestion_theme_list_length=0&offset=100\n"
     ]
    }
   ],
   "source": [
    "parse_allU()"
   ]
  },
  {
   "cell_type": "code",
   "execution_count": 19,
   "id": "31973c92",
   "metadata": {},
   "outputs": [
    {
     "name": "stdout",
     "output_type": "stream",
     "text": [
      "https://www.booking.com/hotel/ma/riad-ba-sidi-marrakech.fr.html?label=gen173nr-1FCAEoggI46AdIM1gEaIwBiAEBmAENuAEXyAEM2AEB6AEB-AELiAIBqAIDuAKWkpGbBsACAdICJDNjMmNmNmRkLThjNmUtNDMzOS1iYTBiLTZjNjdiNDE2MjE4OdgCBuACAQ&sid=4151851a79ba47c90a251a187258e784&aid=304142&ucfs=1&arphpl=1&dest_id=-38833&dest_type=city&group_adults=2&req_adults=2&no_rooms=1&group_children=0&req_children=0&hpos=1&hapos=1&sr_order=popularity&srpvid=3674554718be000b&srepoch=1667563663&from_sustainable_property_sr=1&from=searchresults#hotelTmpl\n",
      "https://www.booking.com/hotel/ma/amp-spa-riad-el-walla.fr.html?label=gen173nr-1FCAEoggI46AdIM1gEaIwBiAEBmAENuAEXyAEM2AEB6AEB-AELiAIBqAIDuAKWkpGbBsACAdICJDNjMmNmNmRkLThjNmUtNDMzOS1iYTBiLTZjNjdiNDE2MjE4OdgCBuACAQ&sid=4151851a79ba47c90a251a187258e784&aid=304142&ucfs=1&arphpl=1&dest_id=-38833&dest_type=city&group_adults=2&req_adults=2&no_rooms=1&group_children=0&req_children=0&hpos=2&hapos=2&sr_order=popularity&srpvid=3674554718be000b&srepoch=1667563663&from=searchresults#hotelTmpl\n",
      "https://www.booking.com/hotel/ma/riad-nelia.fr.html?label=gen173nr-1FCAEoggI46AdIM1gEaIwBiAEBmAENuAEXyAEM2AEB6AEB-AELiAIBqAIDuAKWkpGbBsACAdICJDNjMmNmNmRkLThjNmUtNDMzOS1iYTBiLTZjNjdiNDE2MjE4OdgCBuACAQ&sid=4151851a79ba47c90a251a187258e784&aid=304142&ucfs=1&arphpl=1&dest_id=-38833&dest_type=city&group_adults=2&req_adults=2&no_rooms=1&group_children=0&req_children=0&hpos=3&hapos=3&sr_order=popularity&srpvid=3674554718be000b&srepoch=1667563663&from=searchresults#hotelTmpl\n",
      "https://www.booking.com/hotel/ma/riad-qodwa.fr.html?label=gen173nr-1FCAEoggI46AdIM1gEaIwBiAEBmAENuAEXyAEM2AEB6AEB-AELiAIBqAIDuAKWkpGbBsACAdICJDNjMmNmNmRkLThjNmUtNDMzOS1iYTBiLTZjNjdiNDE2MjE4OdgCBuACAQ&sid=4151851a79ba47c90a251a187258e784&aid=304142&ucfs=1&arphpl=1&dest_id=-38833&dest_type=city&group_adults=2&req_adults=2&no_rooms=1&group_children=0&req_children=0&hpos=4&hapos=4&sr_order=popularity&srpvid=3674554718be000b&srepoch=1667563663&from=searchresults#hotelTmpl\n",
      "https://www.booking.com/hotel/ma/racine.fr.html?label=gen173nr-1FCAEoggI46AdIM1gEaIwBiAEBmAENuAEXyAEM2AEB6AEB-AELiAIBqAIDuAKWkpGbBsACAdICJDNjMmNmNmRkLThjNmUtNDMzOS1iYTBiLTZjNjdiNDE2MjE4OdgCBuACAQ&sid=4151851a79ba47c90a251a187258e784&aid=304142&ucfs=1&arphpl=1&dest_id=-38833&dest_type=city&group_adults=2&req_adults=2&no_rooms=1&group_children=0&req_children=0&hpos=5&hapos=5&sr_order=popularity&srpvid=3674554718be000b&srepoch=1667563663&from=searchresults#hotelTmpl\n",
      "https://www.booking.com/hotel/ma/riad-al-rimal.fr.html?label=gen173nr-1FCAEoggI46AdIM1gEaIwBiAEBmAENuAEXyAEM2AEB6AEB-AELiAIBqAIDuAKWkpGbBsACAdICJDNjMmNmNmRkLThjNmUtNDMzOS1iYTBiLTZjNjdiNDE2MjE4OdgCBuACAQ&sid=4151851a79ba47c90a251a187258e784&aid=304142&ucfs=1&arphpl=1&dest_id=-38833&dest_type=city&group_adults=2&req_adults=2&no_rooms=1&group_children=0&req_children=0&hpos=6&hapos=6&sr_order=popularity&srpvid=3674554718be000b&srepoch=1667563663&from=searchresults#hotelTmpl\n",
      "https://www.booking.com/hotel/ma/riad-l-oiseau-du-paradis.fr.html?label=gen173nr-1FCAEoggI46AdIM1gEaIwBiAEBmAENuAEXyAEM2AEB6AEB-AELiAIBqAIDuAKWkpGbBsACAdICJDNjMmNmNmRkLThjNmUtNDMzOS1iYTBiLTZjNjdiNDE2MjE4OdgCBuACAQ&sid=4151851a79ba47c90a251a187258e784&aid=304142&ucfs=1&arphpl=1&dest_id=-38833&dest_type=city&group_adults=2&req_adults=2&no_rooms=1&group_children=0&req_children=0&hpos=7&hapos=7&sr_order=popularity&srpvid=3674554718be000b&srepoch=1667563663&from=searchresults#hotelTmpl\n",
      "https://www.booking.com/hotel/ma/el-olivar-palace-marrakech.fr.html?label=gen173nr-1FCAEoggI46AdIM1gEaIwBiAEBmAENuAEXyAEM2AEB6AEB-AELiAIBqAIDuAKWkpGbBsACAdICJDNjMmNmNmRkLThjNmUtNDMzOS1iYTBiLTZjNjdiNDE2MjE4OdgCBuACAQ&sid=4151851a79ba47c90a251a187258e784&aid=304142&ucfs=1&arphpl=1&dest_id=-38833&dest_type=city&group_adults=2&req_adults=2&no_rooms=1&group_children=0&req_children=0&hpos=8&hapos=8&sr_order=popularity&srpvid=3674554718be000b&srepoch=1667563663&from=searchresults#hotelTmpl\n",
      "https://www.booking.com/hotel/ma/riad-o-lika.fr.html?label=gen173nr-1FCAEoggI46AdIM1gEaIwBiAEBmAENuAEXyAEM2AEB6AEB-AELiAIBqAIDuAKWkpGbBsACAdICJDNjMmNmNmRkLThjNmUtNDMzOS1iYTBiLTZjNjdiNDE2MjE4OdgCBuACAQ&sid=4151851a79ba47c90a251a187258e784&aid=304142&ucfs=1&arphpl=1&dest_id=-38833&dest_type=city&group_adults=2&req_adults=2&no_rooms=1&group_children=0&req_children=0&hpos=9&hapos=9&sr_order=popularity&srpvid=3674554718be000b&srepoch=1667563663&from_sustainable_property_sr=1&from=searchresults#hotelTmpl\n",
      "https://www.booking.com/hotel/ma/riad-farhan.fr.html?label=gen173nr-1FCAEoggI46AdIM1gEaIwBiAEBmAENuAEXyAEM2AEB6AEB-AELiAIBqAIDuAKWkpGbBsACAdICJDNjMmNmNmRkLThjNmUtNDMzOS1iYTBiLTZjNjdiNDE2MjE4OdgCBuACAQ&sid=4151851a79ba47c90a251a187258e784&aid=304142&ucfs=1&arphpl=1&dest_id=-38833&dest_type=city&group_adults=2&req_adults=2&no_rooms=1&group_children=0&req_children=0&hpos=10&hapos=10&sr_order=popularity&srpvid=3674554718be000b&srepoch=1667563663&from_sustainable_property_sr=1&from=searchresults#hotelTmpl\n",
      "https://www.booking.com/hotel/ma/palmeraie-village-3-marrakech.fr.html?label=gen173nr-1FCAEoggI46AdIM1gEaIwBiAEBmAENuAEXyAEM2AEB6AEB-AELiAIBqAIDuAKWkpGbBsACAdICJDNjMmNmNmRkLThjNmUtNDMzOS1iYTBiLTZjNjdiNDE2MjE4OdgCBuACAQ&sid=4151851a79ba47c90a251a187258e784&aid=304142&ucfs=1&arphpl=1&dest_id=-38833&dest_type=city&group_adults=2&req_adults=2&no_rooms=1&group_children=0&req_children=0&hpos=11&hapos=11&sr_order=popularity&srpvid=3674554718be000b&srepoch=1667563663&from_sustainable_property_sr=1&from=searchresults#hotelTmpl\n",
      "https://www.booking.com/hotel/ma/riad-shama-marrakech.fr.html?label=gen173nr-1FCAEoggI46AdIM1gEaIwBiAEBmAENuAEXyAEM2AEB6AEB-AELiAIBqAIDuAKWkpGbBsACAdICJDNjMmNmNmRkLThjNmUtNDMzOS1iYTBiLTZjNjdiNDE2MjE4OdgCBuACAQ&sid=4151851a79ba47c90a251a187258e784&aid=304142&ucfs=1&arphpl=1&dest_id=-38833&dest_type=city&group_adults=2&req_adults=2&no_rooms=1&group_children=0&req_children=0&hpos=12&hapos=12&sr_order=popularity&srpvid=3674554718be000b&srepoch=1667563663&from_sustainable_property_sr=1&from=searchresults#hotelTmpl\n",
      "https://www.booking.com/hotel/ma/riad-litzy.fr.html?label=gen173nr-1FCAEoggI46AdIM1gEaIwBiAEBmAENuAEXyAEM2AEB6AEB-AELiAIBqAIDuAKWkpGbBsACAdICJDNjMmNmNmRkLThjNmUtNDMzOS1iYTBiLTZjNjdiNDE2MjE4OdgCBuACAQ&sid=4151851a79ba47c90a251a187258e784&aid=304142&ucfs=1&arphpl=1&dest_id=-38833&dest_type=city&group_adults=2&req_adults=2&no_rooms=1&group_children=0&req_children=0&hpos=13&hapos=13&sr_order=popularity&srpvid=3674554718be000b&srepoch=1667563663&from_sustainable_property_sr=1&from=searchresults#hotelTmpl\n",
      "https://www.booking.com/hotel/ma/riad-tamazouzte.fr.html?label=gen173nr-1FCAEoggI46AdIM1gEaIwBiAEBmAENuAEXyAEM2AEB6AEB-AELiAIBqAIDuAKWkpGbBsACAdICJDNjMmNmNmRkLThjNmUtNDMzOS1iYTBiLTZjNjdiNDE2MjE4OdgCBuACAQ&sid=4151851a79ba47c90a251a187258e784&aid=304142&ucfs=1&arphpl=1&dest_id=-38833&dest_type=city&group_adults=2&req_adults=2&no_rooms=1&group_children=0&req_children=0&hpos=14&hapos=14&sr_order=popularity&srpvid=3674554718be000b&srepoch=1667563663&from=searchresults#hotelTmpl\n",
      "https://www.booking.com/hotel/ma/riad-de-vinci.fr.html?label=gen173nr-1FCAEoggI46AdIM1gEaIwBiAEBmAENuAEXyAEM2AEB6AEB-AELiAIBqAIDuAKWkpGbBsACAdICJDNjMmNmNmRkLThjNmUtNDMzOS1iYTBiLTZjNjdiNDE2MjE4OdgCBuACAQ&sid=4151851a79ba47c90a251a187258e784&aid=304142&ucfs=1&arphpl=1&dest_id=-38833&dest_type=city&group_adults=2&req_adults=2&no_rooms=1&group_children=0&req_children=0&hpos=15&hapos=15&sr_order=popularity&srpvid=3674554718be000b&srepoch=1667563663&from_sustainable_property_sr=1&from=searchresults#hotelTmpl\n",
      "https://www.booking.com/hotel/ma/riad-les-bougainvilliers.fr.html?label=gen173nr-1FCAEoggI46AdIM1gEaIwBiAEBmAENuAEXyAEM2AEB6AEB-AELiAIBqAIDuAKWkpGbBsACAdICJDNjMmNmNmRkLThjNmUtNDMzOS1iYTBiLTZjNjdiNDE2MjE4OdgCBuACAQ&sid=4151851a79ba47c90a251a187258e784&aid=304142&ucfs=1&arphpl=1&dest_id=-38833&dest_type=city&group_adults=2&req_adults=2&no_rooms=1&group_children=0&req_children=0&hpos=16&hapos=16&sr_order=popularity&srpvid=3674554718be000b&srepoch=1667563663&from_sustainable_property_sr=1&from=searchresults#hotelTmpl\n",
      "https://www.booking.com/hotel/ma/palais-calipau.fr.html?label=gen173nr-1FCAEoggI46AdIM1gEaIwBiAEBmAENuAEXyAEM2AEB6AEB-AELiAIBqAIDuAKWkpGbBsACAdICJDNjMmNmNmRkLThjNmUtNDMzOS1iYTBiLTZjNjdiNDE2MjE4OdgCBuACAQ&sid=4151851a79ba47c90a251a187258e784&aid=304142&ucfs=1&arphpl=1&dest_id=-38833&dest_type=city&group_adults=2&req_adults=2&no_rooms=1&group_children=0&req_children=0&hpos=17&hapos=17&sr_order=popularity&srpvid=3674554718be000b&srepoch=1667563663&from_sustainable_property_sr=1&from=searchresults#hotelTmpl\n",
      "https://www.booking.com/hotel/ma/bab-residence.fr.html?label=gen173nr-1FCAEoggI46AdIM1gEaIwBiAEBmAENuAEXyAEM2AEB6AEB-AELiAIBqAIDuAKWkpGbBsACAdICJDNjMmNmNmRkLThjNmUtNDMzOS1iYTBiLTZjNjdiNDE2MjE4OdgCBuACAQ&sid=4151851a79ba47c90a251a187258e784&aid=304142&ucfs=1&arphpl=1&dest_id=-38833&dest_type=city&group_adults=2&req_adults=2&no_rooms=1&group_children=0&req_children=0&hpos=18&hapos=18&sr_order=popularity&srpvid=3674554718be000b&srepoch=1667563663&from=searchresults#hotelTmpl\n",
      "https://www.booking.com/hotel/ma/les-jardins-de-l-agdal-spa.fr.html?label=gen173nr-1FCAEoggI46AdIM1gEaIwBiAEBmAENuAEXyAEM2AEB6AEB-AELiAIBqAIDuAKWkpGbBsACAdICJDNjMmNmNmRkLThjNmUtNDMzOS1iYTBiLTZjNjdiNDE2MjE4OdgCBuACAQ&sid=4151851a79ba47c90a251a187258e784&aid=304142&ucfs=1&arphpl=1&dest_id=-38833&dest_type=city&group_adults=2&req_adults=2&no_rooms=1&group_children=0&req_children=0&hpos=19&hapos=19&sr_order=popularity&srpvid=3674554718be000b&srepoch=1667563663&from_sustainable_property_sr=1&from=searchresults#hotelTmpl\n",
      "https://www.booking.com/hotel/ma/riad-abaka.fr.html?label=gen173nr-1FCAEoggI46AdIM1gEaIwBiAEBmAENuAEXyAEM2AEB6AEB-AELiAIBqAIDuAKWkpGbBsACAdICJDNjMmNmNmRkLThjNmUtNDMzOS1iYTBiLTZjNjdiNDE2MjE4OdgCBuACAQ&sid=4151851a79ba47c90a251a187258e784&aid=304142&ucfs=1&arphpl=1&dest_id=-38833&dest_type=city&group_adults=2&req_adults=2&no_rooms=1&group_children=0&req_children=0&hpos=20&hapos=20&sr_order=popularity&srpvid=3674554718be000b&srepoch=1667563663&from_sustainable_property_sr=1&from=searchresults#hotelTmpl\n",
      "https://www.booking.com/hotel/ma/maison-belbaraka.fr.html?label=gen173nr-1FCAEoggI46AdIM1gEaIwBiAEBmAENuAEXyAEM2AEB6AEB-AELiAIBqAIDuAKWkpGbBsACAdICJDNjMmNmNmRkLThjNmUtNDMzOS1iYTBiLTZjNjdiNDE2MjE4OdgCBuACAQ&sid=4151851a79ba47c90a251a187258e784&aid=304142&ucfs=1&arphpl=1&dest_id=-38833&dest_type=city&group_adults=2&req_adults=2&no_rooms=1&group_children=0&req_children=0&hpos=21&hapos=21&sr_order=popularity&srpvid=3674554718be000b&srepoch=1667563663&from_sustainable_property_sr=1&from=searchresults#hotelTmpl\n",
      "https://www.booking.com/hotel/ma/riad-kniza.fr.html?label=gen173nr-1FCAEoggI46AdIM1gEaIwBiAEBmAENuAEXyAEM2AEB6AEB-AELiAIBqAIDuAKWkpGbBsACAdICJDNjMmNmNmRkLThjNmUtNDMzOS1iYTBiLTZjNjdiNDE2MjE4OdgCBuACAQ&sid=4151851a79ba47c90a251a187258e784&aid=304142&ucfs=1&arphpl=1&dest_id=-38833&dest_type=city&group_adults=2&req_adults=2&no_rooms=1&group_children=0&req_children=0&hpos=22&hapos=22&sr_order=popularity&srpvid=3674554718be000b&srepoch=1667563663&from=searchresults#hotelTmpl\n",
      "https://www.booking.com/hotel/ma/riad-ghali-amp-spa.fr.html?label=gen173nr-1FCAEoggI46AdIM1gEaIwBiAEBmAENuAEXyAEM2AEB6AEB-AELiAIBqAIDuAKWkpGbBsACAdICJDNjMmNmNmRkLThjNmUtNDMzOS1iYTBiLTZjNjdiNDE2MjE4OdgCBuACAQ&sid=4151851a79ba47c90a251a187258e784&aid=304142&ucfs=1&arphpl=1&dest_id=-38833&dest_type=city&group_adults=2&req_adults=2&no_rooms=1&group_children=0&req_children=0&hpos=23&hapos=23&sr_order=popularity&srpvid=3674554718be000b&srepoch=1667563663&from_sustainable_property_sr=1&from=searchresults#hotelTmpl\n",
      "https://www.booking.com/hotel/ma/riad-amin-marrakech.fr.html?label=gen173nr-1FCAEoggI46AdIM1gEaIwBiAEBmAENuAEXyAEM2AEB6AEB-AELiAIBqAIDuAKWkpGbBsACAdICJDNjMmNmNmRkLThjNmUtNDMzOS1iYTBiLTZjNjdiNDE2MjE4OdgCBuACAQ&sid=4151851a79ba47c90a251a187258e784&aid=304142&ucfs=1&arphpl=1&dest_id=-38833&dest_type=city&group_adults=2&req_adults=2&no_rooms=1&group_children=0&req_children=0&hpos=24&hapos=24&sr_order=popularity&srpvid=3674554718be000b&srepoch=1667563663&from=searchresults#hotelTmpl\n",
      "https://www.booking.com/hotel/ma/villa-amira-et-spa.fr.html?label=gen173nr-1FCAEoggI46AdIM1gEaIwBiAEBmAENuAEXyAEM2AEB6AEB-AELiAIBqAIDuAKWkpGbBsACAdICJDNjMmNmNmRkLThjNmUtNDMzOS1iYTBiLTZjNjdiNDE2MjE4OdgCBuACAQ&sid=4151851a79ba47c90a251a187258e784&aid=304142&ucfs=1&arphpl=1&dest_id=-38833&dest_type=city&group_adults=2&req_adults=2&no_rooms=1&group_children=0&req_children=0&hpos=25&hapos=25&sr_order=popularity&srpvid=3674554718be000b&srepoch=1667563663&from_sustainable_property_sr=1&from=searchresults#hotelTmpl\n",
      "https://www.booking.com/hotel/ma/riad-janate.fr.html?label=gen173nr-1FCAEoggI46AdIM1gEaIwBiAEBmAENuAEXyAEM2AEB6AEB-AELiAIBqAIDuAKWkpGbBsACAdICJDNjMmNmNmRkLThjNmUtNDMzOS1iYTBiLTZjNjdiNDE2MjE4OdgCBuACAQ&sid=4151851a79ba47c90a251a187258e784&aid=304142&ucfs=1&arphpl=1&dest_id=-38833&dest_type=city&group_adults=2&req_adults=2&no_rooms=1&group_children=0&req_children=0&hpos=1&hapos=26&sr_order=popularity&srpvid=f0f1554b20a6010e&srepoch=1667563671&from=searchresults#hotelTmpl\n",
      "https://www.booking.com/hotel/ma/riad-flam.fr.html?label=gen173nr-1FCAEoggI46AdIM1gEaIwBiAEBmAENuAEXyAEM2AEB6AEB-AELiAIBqAIDuAKWkpGbBsACAdICJDNjMmNmNmRkLThjNmUtNDMzOS1iYTBiLTZjNjdiNDE2MjE4OdgCBuACAQ&sid=4151851a79ba47c90a251a187258e784&aid=304142&ucfs=1&arphpl=1&dest_id=-38833&dest_type=city&group_adults=2&req_adults=2&no_rooms=1&group_children=0&req_children=0&hpos=2&hapos=27&sr_order=popularity&srpvid=f0f1554b20a6010e&srepoch=1667563671&from_sustainable_property_sr=1&from=searchresults#hotelTmpl\n",
      "https://www.booking.com/hotel/ma/riad-anya.fr.html?label=gen173nr-1FCAEoggI46AdIM1gEaIwBiAEBmAENuAEXyAEM2AEB6AEB-AELiAIBqAIDuAKWkpGbBsACAdICJDNjMmNmNmRkLThjNmUtNDMzOS1iYTBiLTZjNjdiNDE2MjE4OdgCBuACAQ&sid=4151851a79ba47c90a251a187258e784&aid=304142&ucfs=1&arphpl=1&dest_id=-38833&dest_type=city&group_adults=2&req_adults=2&no_rooms=1&group_children=0&req_children=0&hpos=3&hapos=28&sr_order=popularity&srpvid=f0f1554b20a6010e&srepoch=1667563671&from_sustainable_property_sr=1&from=searchresults#hotelTmpl\n",
      "https://www.booking.com/hotel/ma/dar-salam.fr.html?label=gen173nr-1FCAEoggI46AdIM1gEaIwBiAEBmAENuAEXyAEM2AEB6AEB-AELiAIBqAIDuAKWkpGbBsACAdICJDNjMmNmNmRkLThjNmUtNDMzOS1iYTBiLTZjNjdiNDE2MjE4OdgCBuACAQ&sid=4151851a79ba47c90a251a187258e784&aid=304142&ucfs=1&arphpl=1&dest_id=-38833&dest_type=city&group_adults=2&req_adults=2&no_rooms=1&group_children=0&req_children=0&hpos=4&hapos=29&sr_order=popularity&srpvid=f0f1554b20a6010e&srepoch=1667563671&from_sustainable_property_sr=1&from=searchresults#hotelTmpl\n",
      "https://www.booking.com/hotel/ma/riad-shanima-spa.fr.html?label=gen173nr-1FCAEoggI46AdIM1gEaIwBiAEBmAENuAEXyAEM2AEB6AEB-AELiAIBqAIDuAKWkpGbBsACAdICJDNjMmNmNmRkLThjNmUtNDMzOS1iYTBiLTZjNjdiNDE2MjE4OdgCBuACAQ&sid=4151851a79ba47c90a251a187258e784&aid=304142&ucfs=1&arphpl=1&dest_id=-38833&dest_type=city&group_adults=2&req_adults=2&no_rooms=1&group_children=0&req_children=0&hpos=5&hapos=30&sr_order=popularity&srpvid=f0f1554b20a6010e&srepoch=1667563671&from_sustainable_property_sr=1&from=searchresults#hotelTmpl\n",
      "https://www.booking.com/hotel/ma/riad-bindoo.fr.html?label=gen173nr-1FCAEoggI46AdIM1gEaIwBiAEBmAENuAEXyAEM2AEB6AEB-AELiAIBqAIDuAKWkpGbBsACAdICJDNjMmNmNmRkLThjNmUtNDMzOS1iYTBiLTZjNjdiNDE2MjE4OdgCBuACAQ&sid=4151851a79ba47c90a251a187258e784&aid=304142&ucfs=1&arphpl=1&dest_id=-38833&dest_type=city&group_adults=2&req_adults=2&no_rooms=1&group_children=0&req_children=0&hpos=6&hapos=31&sr_order=popularity&srpvid=f0f1554b20a6010e&srepoch=1667563671&from=searchresults#hotelTmpl\n",
      "https://www.booking.com/hotel/ma/aix-kabaj-palais.fr.html?label=gen173nr-1FCAEoggI46AdIM1gEaIwBiAEBmAENuAEXyAEM2AEB6AEB-AELiAIBqAIDuAKWkpGbBsACAdICJDNjMmNmNmRkLThjNmUtNDMzOS1iYTBiLTZjNjdiNDE2MjE4OdgCBuACAQ&sid=4151851a79ba47c90a251a187258e784&aid=304142&ucfs=1&arphpl=1&dest_id=-38833&dest_type=city&group_adults=2&req_adults=2&no_rooms=1&group_children=0&req_children=0&hpos=7&hapos=32&sr_order=popularity&srpvid=f0f1554b20a6010e&srepoch=1667563671&from_sustainable_property_sr=1&from=searchresults#hotelTmpl\n",
      "https://www.booking.com/hotel/ma/dar-chibania.fr.html?label=gen173nr-1FCAEoggI46AdIM1gEaIwBiAEBmAENuAEXyAEM2AEB6AEB-AELiAIBqAIDuAKWkpGbBsACAdICJDNjMmNmNmRkLThjNmUtNDMzOS1iYTBiLTZjNjdiNDE2MjE4OdgCBuACAQ&sid=4151851a79ba47c90a251a187258e784&aid=304142&ucfs=1&arphpl=1&dest_id=-38833&dest_type=city&group_adults=2&req_adults=2&no_rooms=1&group_children=0&req_children=0&hpos=8&hapos=33&sr_order=popularity&srpvid=f0f1554b20a6010e&srepoch=1667563671&from_sustainable_property_sr=1&from=searchresults#hotelTmpl\n",
      "https://www.booking.com/hotel/ma/riad-bayti-marrakech.fr.html?label=gen173nr-1FCAEoggI46AdIM1gEaIwBiAEBmAENuAEXyAEM2AEB6AEB-AELiAIBqAIDuAKWkpGbBsACAdICJDNjMmNmNmRkLThjNmUtNDMzOS1iYTBiLTZjNjdiNDE2MjE4OdgCBuACAQ&sid=4151851a79ba47c90a251a187258e784&aid=304142&ucfs=1&arphpl=1&dest_id=-38833&dest_type=city&group_adults=2&req_adults=2&no_rooms=1&group_children=0&req_children=0&hpos=9&hapos=34&sr_order=popularity&srpvid=f0f1554b20a6010e&srepoch=1667563671&from_sustainable_property_sr=1&from=searchresults#hotelTmpl\n",
      "https://www.booking.com/hotel/ma/riad-dar-merzouga.fr.html?label=gen173nr-1FCAEoggI46AdIM1gEaIwBiAEBmAENuAEXyAEM2AEB6AEB-AELiAIBqAIDuAKWkpGbBsACAdICJDNjMmNmNmRkLThjNmUtNDMzOS1iYTBiLTZjNjdiNDE2MjE4OdgCBuACAQ&sid=4151851a79ba47c90a251a187258e784&aid=304142&ucfs=1&arphpl=1&dest_id=-38833&dest_type=city&group_adults=2&req_adults=2&no_rooms=1&group_children=0&req_children=0&hpos=10&hapos=35&sr_order=popularity&srpvid=f0f1554b20a6010e&srepoch=1667563671&from_sustainable_property_sr=1&from=searchresults#hotelTmpl\n",
      "https://www.booking.com/hotel/ma/riad-omara-al-kasbah.fr.html?label=gen173nr-1FCAEoggI46AdIM1gEaIwBiAEBmAENuAEXyAEM2AEB6AEB-AELiAIBqAIDuAKWkpGbBsACAdICJDNjMmNmNmRkLThjNmUtNDMzOS1iYTBiLTZjNjdiNDE2MjE4OdgCBuACAQ&sid=4151851a79ba47c90a251a187258e784&aid=304142&ucfs=1&arphpl=1&dest_id=-38833&dest_type=city&group_adults=2&req_adults=2&no_rooms=1&group_children=0&req_children=0&hpos=11&hapos=36&sr_order=popularity&srpvid=f0f1554b20a6010e&srepoch=1667563671&from_sustainable_property_sr=1&from=searchresults#hotelTmpl\n",
      "https://www.booking.com/hotel/ma/dar-darma.fr.html?label=gen173nr-1FCAEoggI46AdIM1gEaIwBiAEBmAENuAEXyAEM2AEB6AEB-AELiAIBqAIDuAKWkpGbBsACAdICJDNjMmNmNmRkLThjNmUtNDMzOS1iYTBiLTZjNjdiNDE2MjE4OdgCBuACAQ&sid=4151851a79ba47c90a251a187258e784&aid=304142&ucfs=1&arphpl=1&dest_id=-38833&dest_type=city&group_adults=2&req_adults=2&no_rooms=1&group_children=0&req_children=0&hpos=12&hapos=37&sr_order=popularity&srpvid=f0f1554b20a6010e&srepoch=1667563671&from_sustainable_property_sr=1&from=searchresults#hotelTmpl\n",
      "https://www.booking.com/hotel/ma/dar-akal.fr.html?label=gen173nr-1FCAEoggI46AdIM1gEaIwBiAEBmAENuAEXyAEM2AEB6AEB-AELiAIBqAIDuAKWkpGbBsACAdICJDNjMmNmNmRkLThjNmUtNDMzOS1iYTBiLTZjNjdiNDE2MjE4OdgCBuACAQ&sid=4151851a79ba47c90a251a187258e784&aid=304142&ucfs=1&arphpl=1&dest_id=-38833&dest_type=city&group_adults=2&req_adults=2&no_rooms=1&group_children=0&req_children=0&hpos=13&hapos=38&sr_order=popularity&srpvid=f0f1554b20a6010e&srepoch=1667563671&from=searchresults#hotelTmpl\n",
      "https://www.booking.com/hotel/ma/villa-bien-etre.fr.html?label=gen173nr-1FCAEoggI46AdIM1gEaIwBiAEBmAENuAEXyAEM2AEB6AEB-AELiAIBqAIDuAKWkpGbBsACAdICJDNjMmNmNmRkLThjNmUtNDMzOS1iYTBiLTZjNjdiNDE2MjE4OdgCBuACAQ&sid=4151851a79ba47c90a251a187258e784&aid=304142&ucfs=1&arphpl=1&dest_id=-38833&dest_type=city&group_adults=2&req_adults=2&no_rooms=1&group_children=0&req_children=0&hpos=14&hapos=39&sr_order=popularity&srpvid=f0f1554b20a6010e&srepoch=1667563671&from=searchresults#hotelTmpl\n",
      "https://www.booking.com/hotel/ma/riad-les-hirondelles-boutique-marrakech.fr.html?label=gen173nr-1FCAEoggI46AdIM1gEaIwBiAEBmAENuAEXyAEM2AEB6AEB-AELiAIBqAIDuAKWkpGbBsACAdICJDNjMmNmNmRkLThjNmUtNDMzOS1iYTBiLTZjNjdiNDE2MjE4OdgCBuACAQ&sid=4151851a79ba47c90a251a187258e784&aid=304142&ucfs=1&arphpl=1&dest_id=-38833&dest_type=city&group_adults=2&req_adults=2&no_rooms=1&group_children=0&req_children=0&hpos=15&hapos=40&sr_order=popularity&srpvid=f0f1554b20a6010e&srepoch=1667563671&from_sustainable_property_sr=1&from=searchresults#hotelTmpl\n",
      "https://www.booking.com/hotel/ma/dar-sabra.fr.html?label=gen173nr-1FCAEoggI46AdIM1gEaIwBiAEBmAENuAEXyAEM2AEB6AEB-AELiAIBqAIDuAKWkpGbBsACAdICJDNjMmNmNmRkLThjNmUtNDMzOS1iYTBiLTZjNjdiNDE2MjE4OdgCBuACAQ&sid=4151851a79ba47c90a251a187258e784&aid=304142&ucfs=1&arphpl=1&dest_id=-38833&dest_type=city&group_adults=2&req_adults=2&no_rooms=1&group_children=0&req_children=0&hpos=16&hapos=41&sr_order=popularity&srpvid=f0f1554b20a6010e&srepoch=1667563671&from=searchresults#hotelTmpl\n",
      "https://www.booking.com/hotel/ma/riad-misria.fr.html?label=gen173nr-1FCAEoggI46AdIM1gEaIwBiAEBmAENuAEXyAEM2AEB6AEB-AELiAIBqAIDuAKWkpGbBsACAdICJDNjMmNmNmRkLThjNmUtNDMzOS1iYTBiLTZjNjdiNDE2MjE4OdgCBuACAQ&sid=4151851a79ba47c90a251a187258e784&aid=304142&ucfs=1&arphpl=1&dest_id=-38833&dest_type=city&group_adults=2&req_adults=2&no_rooms=1&group_children=0&req_children=0&hpos=17&hapos=42&sr_order=popularity&srpvid=f0f1554b20a6010e&srepoch=1667563671&from_sustainable_property_sr=1&from=searchresults#hotelTmpl\n",
      "https://www.booking.com/hotel/ma/riad-tahili-amp-spa.fr.html?label=gen173nr-1FCAEoggI46AdIM1gEaIwBiAEBmAENuAEXyAEM2AEB6AEB-AELiAIBqAIDuAKWkpGbBsACAdICJDNjMmNmNmRkLThjNmUtNDMzOS1iYTBiLTZjNjdiNDE2MjE4OdgCBuACAQ&sid=4151851a79ba47c90a251a187258e784&aid=304142&ucfs=1&arphpl=1&dest_id=-38833&dest_type=city&group_adults=2&req_adults=2&no_rooms=1&group_children=0&req_children=0&hpos=18&hapos=43&sr_order=popularity&srpvid=f0f1554b20a6010e&srepoch=1667563671&from_sustainable_property_sr=1&from=searchresults#hotelTmpl\n",
      "https://www.booking.com/hotel/ma/riad-jnane-d-a.fr.html?label=gen173nr-1FCAEoggI46AdIM1gEaIwBiAEBmAENuAEXyAEM2AEB6AEB-AELiAIBqAIDuAKWkpGbBsACAdICJDNjMmNmNmRkLThjNmUtNDMzOS1iYTBiLTZjNjdiNDE2MjE4OdgCBuACAQ&sid=4151851a79ba47c90a251a187258e784&aid=304142&ucfs=1&arphpl=1&dest_id=-38833&dest_type=city&group_adults=2&req_adults=2&no_rooms=1&group_children=0&req_children=0&hpos=19&hapos=44&sr_order=popularity&srpvid=f0f1554b20a6010e&srepoch=1667563671&from=searchresults#hotelTmpl\n",
      "https://www.booking.com/hotel/ma/riad-emberiza-sahari.fr.html?label=gen173nr-1FCAEoggI46AdIM1gEaIwBiAEBmAENuAEXyAEM2AEB6AEB-AELiAIBqAIDuAKWkpGbBsACAdICJDNjMmNmNmRkLThjNmUtNDMzOS1iYTBiLTZjNjdiNDE2MjE4OdgCBuACAQ&sid=4151851a79ba47c90a251a187258e784&aid=304142&ucfs=1&arphpl=1&dest_id=-38833&dest_type=city&group_adults=2&req_adults=2&no_rooms=1&group_children=0&req_children=0&hpos=20&hapos=45&sr_order=popularity&srpvid=f0f1554b20a6010e&srepoch=1667563671&from_sustainable_property_sr=1&from=searchresults#hotelTmpl\n",
      "https://www.booking.com/hotel/ma/riad-11-zitoune.fr.html?label=gen173nr-1FCAEoggI46AdIM1gEaIwBiAEBmAENuAEXyAEM2AEB6AEB-AELiAIBqAIDuAKWkpGbBsACAdICJDNjMmNmNmRkLThjNmUtNDMzOS1iYTBiLTZjNjdiNDE2MjE4OdgCBuACAQ&sid=4151851a79ba47c90a251a187258e784&aid=304142&ucfs=1&arphpl=1&dest_id=-38833&dest_type=city&group_adults=2&req_adults=2&no_rooms=1&group_children=0&req_children=0&hpos=21&hapos=46&sr_order=popularity&srpvid=f0f1554b20a6010e&srepoch=1667563671&from_sustainable_property_sr=1&from=searchresults#hotelTmpl\n",
      "https://www.booking.com/hotel/ma/riad-dar-sanya.fr.html?label=gen173nr-1FCAEoggI46AdIM1gEaIwBiAEBmAENuAEXyAEM2AEB6AEB-AELiAIBqAIDuAKWkpGbBsACAdICJDNjMmNmNmRkLThjNmUtNDMzOS1iYTBiLTZjNjdiNDE2MjE4OdgCBuACAQ&sid=4151851a79ba47c90a251a187258e784&aid=304142&ucfs=1&arphpl=1&dest_id=-38833&dest_type=city&group_adults=2&req_adults=2&no_rooms=1&group_children=0&req_children=0&hpos=22&hapos=47&sr_order=popularity&srpvid=f0f1554b20a6010e&srepoch=1667563671&from_sustainable_property_sr=1&from=searchresults#hotelTmpl\n",
      "https://www.booking.com/hotel/ma/riad-milouda.fr.html?label=gen173nr-1FCAEoggI46AdIM1gEaIwBiAEBmAENuAEXyAEM2AEB6AEB-AELiAIBqAIDuAKWkpGbBsACAdICJDNjMmNmNmRkLThjNmUtNDMzOS1iYTBiLTZjNjdiNDE2MjE4OdgCBuACAQ&sid=4151851a79ba47c90a251a187258e784&aid=304142&ucfs=1&arphpl=1&dest_id=-38833&dest_type=city&group_adults=2&req_adults=2&no_rooms=1&group_children=0&req_children=0&hpos=23&hapos=48&sr_order=popularity&srpvid=f0f1554b20a6010e&srepoch=1667563671&from_sustainable_property_sr=1&from=searchresults#hotelTmpl\n",
      "https://www.booking.com/hotel/ma/riad-awa.fr.html?label=gen173nr-1FCAEoggI46AdIM1gEaIwBiAEBmAENuAEXyAEM2AEB6AEB-AELiAIBqAIDuAKWkpGbBsACAdICJDNjMmNmNmRkLThjNmUtNDMzOS1iYTBiLTZjNjdiNDE2MjE4OdgCBuACAQ&sid=4151851a79ba47c90a251a187258e784&aid=304142&ucfs=1&arphpl=1&dest_id=-38833&dest_type=city&group_adults=2&req_adults=2&no_rooms=1&group_children=0&req_children=0&hpos=24&hapos=49&sr_order=popularity&srpvid=f0f1554b20a6010e&srepoch=1667563671&from_sustainable_property_sr=1&from=searchresults#hotelTmpl\n",
      "https://www.booking.com/hotel/ma/riad-l-escale-de-marrakech.fr.html?label=gen173nr-1FCAEoggI46AdIM1gEaIwBiAEBmAENuAEXyAEM2AEB6AEB-AELiAIBqAIDuAKWkpGbBsACAdICJDNjMmNmNmRkLThjNmUtNDMzOS1iYTBiLTZjNjdiNDE2MjE4OdgCBuACAQ&sid=4151851a79ba47c90a251a187258e784&aid=304142&ucfs=1&arphpl=1&dest_id=-38833&dest_type=city&group_adults=2&req_adults=2&no_rooms=1&group_children=0&req_children=0&hpos=25&hapos=50&sr_order=popularity&srpvid=f0f1554b20a6010e&srepoch=1667563671&from_sustainable_property_sr=1&from=searchresults#hotelTmpl\n",
      "https://www.booking.com/hotel/ma/riad-milouda.fr.html?label=gen173nr-1FCAEoggI46AdIM1gEaIwBiAEBmAENuAEXyAEM2AEB6AEB-AELiAIBqAIDuAKWkpGbBsACAdICJDNjMmNmNmRkLThjNmUtNDMzOS1iYTBiLTZjNjdiNDE2MjE4OdgCBuACAQ&sid=4151851a79ba47c90a251a187258e784&aid=304142&ucfs=1&arphpl=1&dest_id=-38833&dest_type=city&group_adults=2&req_adults=2&no_rooms=1&group_children=0&req_children=0&hpos=1&hapos=51&sr_order=popularity&srpvid=3212554faa870315&srepoch=1667563680&from_sustainable_property_sr=1&from=searchresults#hotelTmpl\n",
      "https://www.booking.com/hotel/ma/riad-awa.fr.html?label=gen173nr-1FCAEoggI46AdIM1gEaIwBiAEBmAENuAEXyAEM2AEB6AEB-AELiAIBqAIDuAKWkpGbBsACAdICJDNjMmNmNmRkLThjNmUtNDMzOS1iYTBiLTZjNjdiNDE2MjE4OdgCBuACAQ&sid=4151851a79ba47c90a251a187258e784&aid=304142&ucfs=1&arphpl=1&dest_id=-38833&dest_type=city&group_adults=2&req_adults=2&no_rooms=1&group_children=0&req_children=0&hpos=2&hapos=52&sr_order=popularity&srpvid=3212554faa870315&srepoch=1667563680&from_sustainable_property_sr=1&from=searchresults#hotelTmpl\n",
      "https://www.booking.com/hotel/ma/riad-l-escale-de-marrakech.fr.html?label=gen173nr-1FCAEoggI46AdIM1gEaIwBiAEBmAENuAEXyAEM2AEB6AEB-AELiAIBqAIDuAKWkpGbBsACAdICJDNjMmNmNmRkLThjNmUtNDMzOS1iYTBiLTZjNjdiNDE2MjE4OdgCBuACAQ&sid=4151851a79ba47c90a251a187258e784&aid=304142&ucfs=1&arphpl=1&dest_id=-38833&dest_type=city&group_adults=2&req_adults=2&no_rooms=1&group_children=0&req_children=0&hpos=3&hapos=53&sr_order=popularity&srpvid=3212554faa870315&srepoch=1667563680&from_sustainable_property_sr=1&from=searchresults#hotelTmpl\n",
      "https://www.booking.com/hotel/ma/dar-zelda.fr.html?label=gen173nr-1FCAEoggI46AdIM1gEaIwBiAEBmAENuAEXyAEM2AEB6AEB-AELiAIBqAIDuAKWkpGbBsACAdICJDNjMmNmNmRkLThjNmUtNDMzOS1iYTBiLTZjNjdiNDE2MjE4OdgCBuACAQ&sid=4151851a79ba47c90a251a187258e784&aid=304142&ucfs=1&arphpl=1&dest_id=-38833&dest_type=city&group_adults=2&req_adults=2&no_rooms=1&group_children=0&req_children=0&hpos=4&hapos=54&sr_order=popularity&srpvid=3212554faa870315&srepoch=1667563680&from_sustainable_property_sr=1&from=searchresults#hotelTmpl\n",
      "https://www.booking.com/hotel/ma/riad144.fr.html?label=gen173nr-1FCAEoggI46AdIM1gEaIwBiAEBmAENuAEXyAEM2AEB6AEB-AELiAIBqAIDuAKWkpGbBsACAdICJDNjMmNmNmRkLThjNmUtNDMzOS1iYTBiLTZjNjdiNDE2MjE4OdgCBuACAQ&sid=4151851a79ba47c90a251a187258e784&aid=304142&ucfs=1&arphpl=1&dest_id=-38833&dest_type=city&group_adults=2&req_adults=2&no_rooms=1&group_children=0&req_children=0&hpos=5&hapos=55&sr_order=popularity&srpvid=3212554faa870315&srepoch=1667563680&from_sustainable_property_sr=1&from=searchresults#hotelTmpl\n",
      "https://www.booking.com/hotel/ma/la-maison-nomade.fr.html?label=gen173nr-1FCAEoggI46AdIM1gEaIwBiAEBmAENuAEXyAEM2AEB6AEB-AELiAIBqAIDuAKWkpGbBsACAdICJDNjMmNmNmRkLThjNmUtNDMzOS1iYTBiLTZjNjdiNDE2MjE4OdgCBuACAQ&sid=4151851a79ba47c90a251a187258e784&aid=304142&ucfs=1&arphpl=1&dest_id=-38833&dest_type=city&group_adults=2&req_adults=2&no_rooms=1&group_children=0&req_children=0&hpos=6&hapos=56&sr_order=popularity&srpvid=3212554faa870315&srepoch=1667563680&from_sustainable_property_sr=1&from=searchresults#hotelTmpl\n",
      "https://www.booking.com/hotel/ma/ksar-anika.fr.html?label=gen173nr-1FCAEoggI46AdIM1gEaIwBiAEBmAENuAEXyAEM2AEB6AEB-AELiAIBqAIDuAKWkpGbBsACAdICJDNjMmNmNmRkLThjNmUtNDMzOS1iYTBiLTZjNjdiNDE2MjE4OdgCBuACAQ&sid=4151851a79ba47c90a251a187258e784&aid=304142&ucfs=1&arphpl=1&dest_id=-38833&dest_type=city&group_adults=2&req_adults=2&no_rooms=1&group_children=0&req_children=0&hpos=7&hapos=57&sr_order=popularity&srpvid=3212554faa870315&srepoch=1667563680&from_sustainable_property_sr=1&from=searchresults#hotelTmpl\n",
      "https://www.booking.com/hotel/ma/riad-dar-el-aila.fr.html?label=gen173nr-1FCAEoggI46AdIM1gEaIwBiAEBmAENuAEXyAEM2AEB6AEB-AELiAIBqAIDuAKWkpGbBsACAdICJDNjMmNmNmRkLThjNmUtNDMzOS1iYTBiLTZjNjdiNDE2MjE4OdgCBuACAQ&sid=4151851a79ba47c90a251a187258e784&aid=304142&ucfs=1&arphpl=1&dest_id=-38833&dest_type=city&group_adults=2&req_adults=2&no_rooms=1&group_children=0&req_children=0&hpos=8&hapos=58&sr_order=popularity&srpvid=3212554faa870315&srepoch=1667563680&from=searchresults#hotelTmpl\n",
      "https://www.booking.com/hotel/ma/riad-hadika-maria.fr.html?label=gen173nr-1FCAEoggI46AdIM1gEaIwBiAEBmAENuAEXyAEM2AEB6AEB-AELiAIBqAIDuAKWkpGbBsACAdICJDNjMmNmNmRkLThjNmUtNDMzOS1iYTBiLTZjNjdiNDE2MjE4OdgCBuACAQ&sid=4151851a79ba47c90a251a187258e784&aid=304142&ucfs=1&arphpl=1&dest_id=-38833&dest_type=city&group_adults=2&req_adults=2&no_rooms=1&group_children=0&req_children=0&hpos=9&hapos=59&sr_order=popularity&srpvid=3212554faa870315&srepoch=1667563680&from=searchresults#hotelTmpl\n",
      "https://www.booking.com/hotel/ma/la-cle-dor.fr.html?label=gen173nr-1FCAEoggI46AdIM1gEaIwBiAEBmAENuAEXyAEM2AEB6AEB-AELiAIBqAIDuAKWkpGbBsACAdICJDNjMmNmNmRkLThjNmUtNDMzOS1iYTBiLTZjNjdiNDE2MjE4OdgCBuACAQ&sid=4151851a79ba47c90a251a187258e784&aid=304142&ucfs=1&arphpl=1&dest_id=-38833&dest_type=city&group_adults=2&req_adults=2&no_rooms=1&group_children=0&req_children=0&hpos=10&hapos=60&sr_order=popularity&srpvid=3212554faa870315&srepoch=1667563680&from_sustainable_property_sr=1&from=searchresults#hotelTmpl\n",
      "https://www.booking.com/hotel/ma/riad-noos-noos.fr.html?label=gen173nr-1FCAEoggI46AdIM1gEaIwBiAEBmAENuAEXyAEM2AEB6AEB-AELiAIBqAIDuAKWkpGbBsACAdICJDNjMmNmNmRkLThjNmUtNDMzOS1iYTBiLTZjNjdiNDE2MjE4OdgCBuACAQ&sid=4151851a79ba47c90a251a187258e784&aid=304142&ucfs=1&arphpl=1&dest_id=-38833&dest_type=city&group_adults=2&req_adults=2&no_rooms=1&group_children=0&req_children=0&hpos=11&hapos=61&sr_order=popularity&srpvid=3212554faa870315&srepoch=1667563680&from=searchresults#hotelTmpl\n",
      "https://www.booking.com/hotel/ma/riad-wazani.fr.html?label=gen173nr-1FCAEoggI46AdIM1gEaIwBiAEBmAENuAEXyAEM2AEB6AEB-AELiAIBqAIDuAKWkpGbBsACAdICJDNjMmNmNmRkLThjNmUtNDMzOS1iYTBiLTZjNjdiNDE2MjE4OdgCBuACAQ&sid=4151851a79ba47c90a251a187258e784&aid=304142&ucfs=1&arphpl=1&dest_id=-38833&dest_type=city&group_adults=2&req_adults=2&no_rooms=1&group_children=0&req_children=0&hpos=12&hapos=62&sr_order=popularity&srpvid=3212554faa870315&srepoch=1667563680&from=searchresults#hotelTmpl\n",
      "https://www.booking.com/hotel/ma/caravan-by-habitas-agafay.fr.html?label=gen173nr-1FCAEoggI46AdIM1gEaIwBiAEBmAENuAEXyAEM2AEB6AEB-AELiAIBqAIDuAKWkpGbBsACAdICJDNjMmNmNmRkLThjNmUtNDMzOS1iYTBiLTZjNjdiNDE2MjE4OdgCBuACAQ&sid=4151851a79ba47c90a251a187258e784&aid=304142&ucfs=1&arphpl=1&dest_id=-38833&dest_type=city&group_adults=2&req_adults=2&no_rooms=1&group_children=0&req_children=0&hpos=13&hapos=63&sr_order=popularity&srpvid=3212554faa870315&srepoch=1667563680&from_sustainable_property_sr=1&from=searchresults#hotelTmpl\n",
      "https://www.booking.com/hotel/ma/ryad-lora-kenza.fr.html?label=gen173nr-1FCAEoggI46AdIM1gEaIwBiAEBmAENuAEXyAEM2AEB6AEB-AELiAIBqAIDuAKWkpGbBsACAdICJDNjMmNmNmRkLThjNmUtNDMzOS1iYTBiLTZjNjdiNDE2MjE4OdgCBuACAQ&sid=4151851a79ba47c90a251a187258e784&aid=304142&ucfs=1&arphpl=1&dest_id=-38833&dest_type=city&group_adults=2&req_adults=2&no_rooms=1&group_children=0&req_children=0&hpos=14&hapos=64&sr_order=popularity&srpvid=3212554faa870315&srepoch=1667563680&from_sustainable_property_sr=1&from=searchresults#hotelTmpl\n",
      "https://www.booking.com/hotel/ma/riad-star.fr.html?label=gen173nr-1FCAEoggI46AdIM1gEaIwBiAEBmAENuAEXyAEM2AEB6AEB-AELiAIBqAIDuAKWkpGbBsACAdICJDNjMmNmNmRkLThjNmUtNDMzOS1iYTBiLTZjNjdiNDE2MjE4OdgCBuACAQ&sid=4151851a79ba47c90a251a187258e784&aid=304142&ucfs=1&arphpl=1&dest_id=-38833&dest_type=city&group_adults=2&req_adults=2&no_rooms=1&group_children=0&req_children=0&hpos=15&hapos=65&sr_order=popularity&srpvid=3212554faa870315&srepoch=1667563680&from_sustainable_property_sr=1&from=searchresults#hotelTmpl\n",
      "https://www.booking.com/hotel/ma/riad-ayadina.fr.html?label=gen173nr-1FCAEoggI46AdIM1gEaIwBiAEBmAENuAEXyAEM2AEB6AEB-AELiAIBqAIDuAKWkpGbBsACAdICJDNjMmNmNmRkLThjNmUtNDMzOS1iYTBiLTZjNjdiNDE2MjE4OdgCBuACAQ&sid=4151851a79ba47c90a251a187258e784&aid=304142&ucfs=1&arphpl=1&dest_id=-38833&dest_type=city&group_adults=2&req_adults=2&no_rooms=1&group_children=0&req_children=0&hpos=16&hapos=66&sr_order=popularity&srpvid=3212554faa870315&srepoch=1667563680&from_sustainable_property_sr=1&from=searchresults#hotelTmpl\n",
      "https://www.booking.com/hotel/ma/riad-anyssates.fr.html?label=gen173nr-1FCAEoggI46AdIM1gEaIwBiAEBmAENuAEXyAEM2AEB6AEB-AELiAIBqAIDuAKWkpGbBsACAdICJDNjMmNmNmRkLThjNmUtNDMzOS1iYTBiLTZjNjdiNDE2MjE4OdgCBuACAQ&sid=4151851a79ba47c90a251a187258e784&aid=304142&ucfs=1&arphpl=1&dest_id=-38833&dest_type=city&group_adults=2&req_adults=2&no_rooms=1&group_children=0&req_children=0&hpos=17&hapos=67&sr_order=popularity&srpvid=3212554faa870315&srepoch=1667563680&from_sustainable_property_sr=1&from=searchresults#hotelTmpl\n",
      "https://www.booking.com/hotel/ma/zaouia44-marrakech.fr.html?label=gen173nr-1FCAEoggI46AdIM1gEaIwBiAEBmAENuAEXyAEM2AEB6AEB-AELiAIBqAIDuAKWkpGbBsACAdICJDNjMmNmNmRkLThjNmUtNDMzOS1iYTBiLTZjNjdiNDE2MjE4OdgCBuACAQ&sid=4151851a79ba47c90a251a187258e784&aid=304142&ucfs=1&arphpl=1&dest_id=-38833&dest_type=city&group_adults=2&req_adults=2&no_rooms=1&group_children=0&req_children=0&hpos=18&hapos=68&sr_order=popularity&srpvid=3212554faa870315&srepoch=1667563680&from=searchresults#hotelTmpl\n",
      "https://www.booking.com/hotel/ma/riad-les-yeux-bleus.fr.html?label=gen173nr-1FCAEoggI46AdIM1gEaIwBiAEBmAENuAEXyAEM2AEB6AEB-AELiAIBqAIDuAKWkpGbBsACAdICJDNjMmNmNmRkLThjNmUtNDMzOS1iYTBiLTZjNjdiNDE2MjE4OdgCBuACAQ&sid=4151851a79ba47c90a251a187258e784&aid=304142&ucfs=1&arphpl=1&dest_id=-38833&dest_type=city&group_adults=2&req_adults=2&no_rooms=1&group_children=0&req_children=0&hpos=19&hapos=69&sr_order=popularity&srpvid=3212554faa870315&srepoch=1667563680&from=searchresults#hotelTmpl\n",
      "https://www.booking.com/hotel/ma/dar-warda.fr.html?label=gen173nr-1FCAEoggI46AdIM1gEaIwBiAEBmAENuAEXyAEM2AEB6AEB-AELiAIBqAIDuAKWkpGbBsACAdICJDNjMmNmNmRkLThjNmUtNDMzOS1iYTBiLTZjNjdiNDE2MjE4OdgCBuACAQ&sid=4151851a79ba47c90a251a187258e784&aid=304142&ucfs=1&arphpl=1&dest_id=-38833&dest_type=city&group_adults=2&req_adults=2&no_rooms=1&group_children=0&req_children=0&hpos=20&hapos=70&sr_order=popularity&srpvid=3212554faa870315&srepoch=1667563680&from_sustainable_property_sr=1&from=searchresults#hotelTmpl\n",
      "https://www.booking.com/hotel/ma/riad-al-wafaa.fr.html?label=gen173nr-1FCAEoggI46AdIM1gEaIwBiAEBmAENuAEXyAEM2AEB6AEB-AELiAIBqAIDuAKWkpGbBsACAdICJDNjMmNmNmRkLThjNmUtNDMzOS1iYTBiLTZjNjdiNDE2MjE4OdgCBuACAQ&sid=4151851a79ba47c90a251a187258e784&aid=304142&ucfs=1&arphpl=1&dest_id=-38833&dest_type=city&group_adults=2&req_adults=2&no_rooms=1&group_children=0&req_children=0&hpos=21&hapos=71&sr_order=popularity&srpvid=3212554faa870315&srepoch=1667563680&from_sustainable_property_sr=1&from=searchresults#hotelTmpl\n",
      "https://www.booking.com/hotel/ma/azzouna13.fr.html?label=gen173nr-1FCAEoggI46AdIM1gEaIwBiAEBmAENuAEXyAEM2AEB6AEB-AELiAIBqAIDuAKWkpGbBsACAdICJDNjMmNmNmRkLThjNmUtNDMzOS1iYTBiLTZjNjdiNDE2MjE4OdgCBuACAQ&sid=4151851a79ba47c90a251a187258e784&aid=304142&ucfs=1&arphpl=1&dest_id=-38833&dest_type=city&group_adults=2&req_adults=2&no_rooms=1&group_children=0&req_children=0&hpos=22&hapos=72&sr_order=popularity&srpvid=3212554faa870315&srepoch=1667563680&from=searchresults#hotelTmpl\n",
      "https://www.booking.com/hotel/ma/dar-ourika.fr.html?label=gen173nr-1FCAEoggI46AdIM1gEaIwBiAEBmAENuAEXyAEM2AEB6AEB-AELiAIBqAIDuAKWkpGbBsACAdICJDNjMmNmNmRkLThjNmUtNDMzOS1iYTBiLTZjNjdiNDE2MjE4OdgCBuACAQ&sid=4151851a79ba47c90a251a187258e784&aid=304142&ucfs=1&arphpl=1&dest_id=-38833&dest_type=city&group_adults=2&req_adults=2&no_rooms=1&group_children=0&req_children=0&hpos=23&hapos=73&sr_order=popularity&srpvid=3212554faa870315&srepoch=1667563680&from=searchresults#hotelTmpl\n",
      "https://www.booking.com/hotel/ma/riad-dar-one-marrakech.fr.html?label=gen173nr-1FCAEoggI46AdIM1gEaIwBiAEBmAENuAEXyAEM2AEB6AEB-AELiAIBqAIDuAKWkpGbBsACAdICJDNjMmNmNmRkLThjNmUtNDMzOS1iYTBiLTZjNjdiNDE2MjE4OdgCBuACAQ&sid=4151851a79ba47c90a251a187258e784&aid=304142&ucfs=1&arphpl=1&dest_id=-38833&dest_type=city&group_adults=2&req_adults=2&no_rooms=1&group_children=0&req_children=0&hpos=24&hapos=74&sr_order=popularity&srpvid=3212554faa870315&srepoch=1667563680&from=searchresults#hotelTmpl\n",
      "https://www.booking.com/hotel/ma/citronneraie-de-marrakech.fr.html?label=gen173nr-1FCAEoggI46AdIM1gEaIwBiAEBmAENuAEXyAEM2AEB6AEB-AELiAIBqAIDuAKWkpGbBsACAdICJDNjMmNmNmRkLThjNmUtNDMzOS1iYTBiLTZjNjdiNDE2MjE4OdgCBuACAQ&sid=4151851a79ba47c90a251a187258e784&aid=304142&ucfs=1&arphpl=1&dest_id=-38833&dest_type=city&group_adults=2&req_adults=2&no_rooms=1&group_children=0&req_children=0&hpos=25&hapos=75&sr_order=popularity&srpvid=3212554faa870315&srepoch=1667563680&from=searchresults#hotelTmpl\n",
      "https://www.booking.com/hotel/ma/riad-swaka.fr.html?label=gen173nr-1FCAEoggI46AdIM1gEaIwBiAEBmAENuAEXyAEM2AEB6AEB-AELiAIBqAIDuAKWkpGbBsACAdICJDNjMmNmNmRkLThjNmUtNDMzOS1iYTBiLTZjNjdiNDE2MjE4OdgCBuACAQ&sid=4151851a79ba47c90a251a187258e784&aid=304142&ucfs=1&arphpl=1&dest_id=-38833&dest_type=city&group_adults=2&req_adults=2&no_rooms=1&group_children=0&req_children=0&hpos=1&hapos=76&sr_order=popularity&srpvid=d1665553c4f500cc&srepoch=1667563688&from_sustainable_property_sr=1&from=searchresults#hotelTmpl\n",
      "https://www.booking.com/hotel/ma/hostel-dar-ben-youssef.fr.html?label=gen173nr-1FCAEoggI46AdIM1gEaIwBiAEBmAENuAEXyAEM2AEB6AEB-AELiAIBqAIDuAKWkpGbBsACAdICJDNjMmNmNmRkLThjNmUtNDMzOS1iYTBiLTZjNjdiNDE2MjE4OdgCBuACAQ&sid=4151851a79ba47c90a251a187258e784&aid=304142&ucfs=1&arphpl=1&dest_id=-38833&dest_type=city&group_adults=2&req_adults=2&no_rooms=1&group_children=0&req_children=0&hpos=2&hapos=77&sr_order=popularity&srpvid=d1665553c4f500cc&srepoch=1667563688&from=searchresults#hotelTmpl\n",
      "https://www.booking.com/hotel/ma/maison-mk.fr.html?label=gen173nr-1FCAEoggI46AdIM1gEaIwBiAEBmAENuAEXyAEM2AEB6AEB-AELiAIBqAIDuAKWkpGbBsACAdICJDNjMmNmNmRkLThjNmUtNDMzOS1iYTBiLTZjNjdiNDE2MjE4OdgCBuACAQ&sid=4151851a79ba47c90a251a187258e784&aid=304142&ucfs=1&arphpl=1&dest_id=-38833&dest_type=city&group_adults=2&req_adults=2&no_rooms=1&group_children=0&req_children=0&hpos=3&hapos=78&sr_order=popularity&srpvid=d1665553c4f500cc&srepoch=1667563688&from_sustainable_property_sr=1&from=searchresults#hotelTmpl\n",
      "https://www.booking.com/hotel/ma/terra-mia-marrakech.fr.html?label=gen173nr-1FCAEoggI46AdIM1gEaIwBiAEBmAENuAEXyAEM2AEB6AEB-AELiAIBqAIDuAKWkpGbBsACAdICJDNjMmNmNmRkLThjNmUtNDMzOS1iYTBiLTZjNjdiNDE2MjE4OdgCBuACAQ&sid=4151851a79ba47c90a251a187258e784&aid=304142&ucfs=1&arphpl=1&dest_id=-38833&dest_type=city&group_adults=2&req_adults=2&no_rooms=1&group_children=0&req_children=0&hpos=4&hapos=79&sr_order=popularity&srpvid=d1665553c4f500cc&srepoch=1667563688&from=searchresults#hotelTmpl\n",
      "https://www.booking.com/hotel/ma/riad-alma.fr.html?label=gen173nr-1FCAEoggI46AdIM1gEaIwBiAEBmAENuAEXyAEM2AEB6AEB-AELiAIBqAIDuAKWkpGbBsACAdICJDNjMmNmNmRkLThjNmUtNDMzOS1iYTBiLTZjNjdiNDE2MjE4OdgCBuACAQ&sid=4151851a79ba47c90a251a187258e784&aid=304142&ucfs=1&arphpl=1&dest_id=-38833&dest_type=city&group_adults=2&req_adults=2&no_rooms=1&group_children=0&req_children=0&hpos=5&hapos=80&sr_order=popularity&srpvid=d1665553c4f500cc&srepoch=1667563688&from_sustainable_property_sr=1&from=searchresults#hotelTmpl\n",
      "https://www.booking.com/hotel/ma/riad-naanaa-marrakesh.fr.html?label=gen173nr-1FCAEoggI46AdIM1gEaIwBiAEBmAENuAEXyAEM2AEB6AEB-AELiAIBqAIDuAKWkpGbBsACAdICJDNjMmNmNmRkLThjNmUtNDMzOS1iYTBiLTZjNjdiNDE2MjE4OdgCBuACAQ&sid=4151851a79ba47c90a251a187258e784&aid=304142&ucfs=1&arphpl=1&dest_id=-38833&dest_type=city&group_adults=2&req_adults=2&no_rooms=1&group_children=0&req_children=0&hpos=6&hapos=81&sr_order=popularity&srpvid=d1665553c4f500cc&srepoch=1667563688&from=searchresults#hotelTmpl\n",
      "https://www.booking.com/hotel/ma/villas-fleurs-marrakech.fr.html?label=gen173nr-1FCAEoggI46AdIM1gEaIwBiAEBmAENuAEXyAEM2AEB6AEB-AELiAIBqAIDuAKWkpGbBsACAdICJDNjMmNmNmRkLThjNmUtNDMzOS1iYTBiLTZjNjdiNDE2MjE4OdgCBuACAQ&sid=4151851a79ba47c90a251a187258e784&aid=304142&ucfs=1&arphpl=1&dest_id=-38833&dest_type=city&group_adults=2&req_adults=2&no_rooms=1&group_children=0&req_children=0&hpos=7&hapos=82&sr_order=popularity&srpvid=d1665553c4f500cc&srepoch=1667563688&from_sustainable_property_sr=1&from=searchresults#hotelTmpl\n",
      "https://www.booking.com/hotel/ma/riad-miloud.fr.html?label=gen173nr-1FCAEoggI46AdIM1gEaIwBiAEBmAENuAEXyAEM2AEB6AEB-AELiAIBqAIDuAKWkpGbBsACAdICJDNjMmNmNmRkLThjNmUtNDMzOS1iYTBiLTZjNjdiNDE2MjE4OdgCBuACAQ&sid=4151851a79ba47c90a251a187258e784&aid=304142&ucfs=1&arphpl=1&dest_id=-38833&dest_type=city&group_adults=2&req_adults=2&no_rooms=1&group_children=0&req_children=0&hpos=8&hapos=83&sr_order=popularity&srpvid=d1665553c4f500cc&srepoch=1667563688&from_sustainable_property_sr=1&from=searchresults#hotelTmpl\n",
      "https://www.booking.com/hotel/ma/riad-berbere.fr.html?label=gen173nr-1FCAEoggI46AdIM1gEaIwBiAEBmAENuAEXyAEM2AEB6AEB-AELiAIBqAIDuAKWkpGbBsACAdICJDNjMmNmNmRkLThjNmUtNDMzOS1iYTBiLTZjNjdiNDE2MjE4OdgCBuACAQ&sid=4151851a79ba47c90a251a187258e784&aid=304142&ucfs=1&arphpl=1&dest_id=-38833&dest_type=city&group_adults=2&req_adults=2&no_rooms=1&group_children=0&req_children=0&hpos=9&hapos=84&sr_order=popularity&srpvid=d1665553c4f500cc&srepoch=1667563688&from_sustainable_property_sr=1&from=searchresults#hotelTmpl\n",
      "https://www.booking.com/hotel/ma/l-39-oliveraie-de-l-39-atlas.fr.html?label=gen173nr-1FCAEoggI46AdIM1gEaIwBiAEBmAENuAEXyAEM2AEB6AEB-AELiAIBqAIDuAKWkpGbBsACAdICJDNjMmNmNmRkLThjNmUtNDMzOS1iYTBiLTZjNjdiNDE2MjE4OdgCBuACAQ&sid=4151851a79ba47c90a251a187258e784&aid=304142&ucfs=1&arphpl=1&dest_id=-38833&dest_type=city&group_adults=2&req_adults=2&no_rooms=1&group_children=0&req_children=0&hpos=10&hapos=85&sr_order=popularity&srpvid=d1665553c4f500cc&srepoch=1667563688&from_sustainable_property_sr=1&from=searchresults#hotelTmpl\n",
      "https://www.booking.com/hotel/ma/riad-amira-victoria.fr.html?label=gen173nr-1FCAEoggI46AdIM1gEaIwBiAEBmAENuAEXyAEM2AEB6AEB-AELiAIBqAIDuAKWkpGbBsACAdICJDNjMmNmNmRkLThjNmUtNDMzOS1iYTBiLTZjNjdiNDE2MjE4OdgCBuACAQ&sid=4151851a79ba47c90a251a187258e784&aid=304142&ucfs=1&arphpl=1&dest_id=-38833&dest_type=city&group_adults=2&req_adults=2&no_rooms=1&group_children=0&req_children=0&hpos=11&hapos=86&sr_order=popularity&srpvid=d1665553c4f500cc&srepoch=1667563688&from_sustainable_property_sr=1&from=searchresults#hotelTmpl\n",
      "https://www.booking.com/hotel/ma/riad-hizad.fr.html?label=gen173nr-1FCAEoggI46AdIM1gEaIwBiAEBmAENuAEXyAEM2AEB6AEB-AELiAIBqAIDuAKWkpGbBsACAdICJDNjMmNmNmRkLThjNmUtNDMzOS1iYTBiLTZjNjdiNDE2MjE4OdgCBuACAQ&sid=4151851a79ba47c90a251a187258e784&aid=304142&ucfs=1&arphpl=1&dest_id=-38833&dest_type=city&group_adults=2&req_adults=2&no_rooms=1&group_children=0&req_children=0&hpos=12&hapos=87&sr_order=popularity&srpvid=d1665553c4f500cc&srepoch=1667563688&from=searchresults#hotelTmpl\n",
      "https://www.booking.com/hotel/ma/la-maison-rouge-marrakech.fr.html?label=gen173nr-1FCAEoggI46AdIM1gEaIwBiAEBmAENuAEXyAEM2AEB6AEB-AELiAIBqAIDuAKWkpGbBsACAdICJDNjMmNmNmRkLThjNmUtNDMzOS1iYTBiLTZjNjdiNDE2MjE4OdgCBuACAQ&sid=4151851a79ba47c90a251a187258e784&aid=304142&ucfs=1&arphpl=1&dest_id=-38833&dest_type=city&group_adults=2&req_adults=2&no_rooms=1&group_children=0&req_children=0&hpos=13&hapos=88&sr_order=popularity&srpvid=d1665553c4f500cc&srepoch=1667563688&from=searchresults#hotelTmpl\n",
      "https://www.booking.com/hotel/ma/riad-elias.fr.html?label=gen173nr-1FCAEoggI46AdIM1gEaIwBiAEBmAENuAEXyAEM2AEB6AEB-AELiAIBqAIDuAKWkpGbBsACAdICJDNjMmNmNmRkLThjNmUtNDMzOS1iYTBiLTZjNjdiNDE2MjE4OdgCBuACAQ&sid=4151851a79ba47c90a251a187258e784&aid=304142&ucfs=1&arphpl=1&dest_id=-38833&dest_type=city&group_adults=2&req_adults=2&no_rooms=1&group_children=0&req_children=0&hpos=14&hapos=89&sr_order=popularity&srpvid=d1665553c4f500cc&srepoch=1667563688&from_sustainable_property_sr=1&from=searchresults#hotelTmpl\n",
      "https://www.booking.com/hotel/ma/eden-lodges.fr.html?label=gen173nr-1FCAEoggI46AdIM1gEaIwBiAEBmAENuAEXyAEM2AEB6AEB-AELiAIBqAIDuAKWkpGbBsACAdICJDNjMmNmNmRkLThjNmUtNDMzOS1iYTBiLTZjNjdiNDE2MjE4OdgCBuACAQ&sid=4151851a79ba47c90a251a187258e784&aid=304142&ucfs=1&arphpl=1&dest_id=-38833&dest_type=city&group_adults=2&req_adults=2&no_rooms=1&group_children=0&req_children=0&hpos=15&hapos=90&sr_order=popularity&srpvid=d1665553c4f500cc&srepoch=1667563688&from_sustainable_property_sr=1&from=searchresults#hotelTmpl\n",
      "https://www.booking.com/hotel/ma/riad-anyssa.fr.html?label=gen173nr-1FCAEoggI46AdIM1gEaIwBiAEBmAENuAEXyAEM2AEB6AEB-AELiAIBqAIDuAKWkpGbBsACAdICJDNjMmNmNmRkLThjNmUtNDMzOS1iYTBiLTZjNjdiNDE2MjE4OdgCBuACAQ&sid=4151851a79ba47c90a251a187258e784&aid=304142&ucfs=1&arphpl=1&dest_id=-38833&dest_type=city&group_adults=2&req_adults=2&no_rooms=1&group_children=0&req_children=0&hpos=16&hapos=91&sr_order=popularity&srpvid=d1665553c4f500cc&srepoch=1667563688&from_sustainable_property_sr=1&from=searchresults#hotelTmpl\n",
      "https://www.booking.com/hotel/ma/riad-el-hara.fr.html?label=gen173nr-1FCAEoggI46AdIM1gEaIwBiAEBmAENuAEXyAEM2AEB6AEB-AELiAIBqAIDuAKWkpGbBsACAdICJDNjMmNmNmRkLThjNmUtNDMzOS1iYTBiLTZjNjdiNDE2MjE4OdgCBuACAQ&sid=4151851a79ba47c90a251a187258e784&aid=304142&ucfs=1&arphpl=1&dest_id=-38833&dest_type=city&group_adults=2&req_adults=2&no_rooms=1&group_children=0&req_children=0&hpos=17&hapos=92&sr_order=popularity&srpvid=d1665553c4f500cc&srepoch=1667563688&from=searchresults#hotelTmpl\n",
      "https://www.booking.com/hotel/ma/riad-dar-khmissa.fr.html?label=gen173nr-1FCAEoggI46AdIM1gEaIwBiAEBmAENuAEXyAEM2AEB6AEB-AELiAIBqAIDuAKWkpGbBsACAdICJDNjMmNmNmRkLThjNmUtNDMzOS1iYTBiLTZjNjdiNDE2MjE4OdgCBuACAQ&sid=4151851a79ba47c90a251a187258e784&aid=304142&ucfs=1&arphpl=1&dest_id=-38833&dest_type=city&group_adults=2&req_adults=2&no_rooms=1&group_children=0&req_children=0&hpos=18&hapos=93&sr_order=popularity&srpvid=d1665553c4f500cc&srepoch=1667563688&from=searchresults#hotelTmpl\n",
      "https://www.booking.com/hotel/ma/riad-bilkis.fr.html?label=gen173nr-1FCAEoggI46AdIM1gEaIwBiAEBmAENuAEXyAEM2AEB6AEB-AELiAIBqAIDuAKWkpGbBsACAdICJDNjMmNmNmRkLThjNmUtNDMzOS1iYTBiLTZjNjdiNDE2MjE4OdgCBuACAQ&sid=4151851a79ba47c90a251a187258e784&aid=304142&ucfs=1&arphpl=1&dest_id=-38833&dest_type=city&group_adults=2&req_adults=2&no_rooms=1&group_children=0&req_children=0&hpos=19&hapos=94&sr_order=popularity&srpvid=d1665553c4f500cc&srepoch=1667563688&from=searchresults#hotelTmpl\n",
      "https://www.booking.com/hotel/ma/riad-algora.fr.html?label=gen173nr-1FCAEoggI46AdIM1gEaIwBiAEBmAENuAEXyAEM2AEB6AEB-AELiAIBqAIDuAKWkpGbBsACAdICJDNjMmNmNmRkLThjNmUtNDMzOS1iYTBiLTZjNjdiNDE2MjE4OdgCBuACAQ&sid=4151851a79ba47c90a251a187258e784&aid=304142&ucfs=1&arphpl=1&dest_id=-38833&dest_type=city&group_adults=2&req_adults=2&no_rooms=1&group_children=0&req_children=0&hpos=20&hapos=95&sr_order=popularity&srpvid=d1665553c4f500cc&srepoch=1667563688&from_sustainable_property_sr=1&from=searchresults#hotelTmpl\n",
      "https://www.booking.com/hotel/ma/central-palace.fr.html?label=gen173nr-1FCAEoggI46AdIM1gEaIwBiAEBmAENuAEXyAEM2AEB6AEB-AELiAIBqAIDuAKWkpGbBsACAdICJDNjMmNmNmRkLThjNmUtNDMzOS1iYTBiLTZjNjdiNDE2MjE4OdgCBuACAQ&sid=4151851a79ba47c90a251a187258e784&aid=304142&ucfs=1&arphpl=1&dest_id=-38833&dest_type=city&group_adults=2&req_adults=2&no_rooms=1&group_children=0&req_children=0&hpos=21&hapos=96&sr_order=popularity&srpvid=d1665553c4f500cc&srepoch=1667563688&from=searchresults#hotelTmpl\n",
      "https://www.booking.com/hotel/ma/stars.fr.html?label=gen173nr-1FCAEoggI46AdIM1gEaIwBiAEBmAENuAEXyAEM2AEB6AEB-AELiAIBqAIDuAKWkpGbBsACAdICJDNjMmNmNmRkLThjNmUtNDMzOS1iYTBiLTZjNjdiNDE2MjE4OdgCBuACAQ&sid=4151851a79ba47c90a251a187258e784&aid=304142&ucfs=1&arphpl=1&dest_id=-38833&dest_type=city&group_adults=2&req_adults=2&no_rooms=1&group_children=0&req_children=0&hpos=22&hapos=97&sr_order=popularity&srpvid=d1665553c4f500cc&srepoch=1667563688&from_sustainable_property_sr=1&from=searchresults#hotelTmpl\n",
      "https://www.booking.com/hotel/ma/riad-lalla-fatima-marrakech.fr.html?label=gen173nr-1FCAEoggI46AdIM1gEaIwBiAEBmAENuAEXyAEM2AEB6AEB-AELiAIBqAIDuAKWkpGbBsACAdICJDNjMmNmNmRkLThjNmUtNDMzOS1iYTBiLTZjNjdiNDE2MjE4OdgCBuACAQ&sid=4151851a79ba47c90a251a187258e784&aid=304142&ucfs=1&arphpl=1&dest_id=-38833&dest_type=city&group_adults=2&req_adults=2&no_rooms=1&group_children=0&req_children=0&hpos=23&hapos=98&sr_order=popularity&srpvid=d1665553c4f500cc&srepoch=1667563688&from_sustainable_property_sr=1&from=searchresults#hotelTmpl\n",
      "https://www.booking.com/hotel/ma/villa-rosalie.fr.html?label=gen173nr-1FCAEoggI46AdIM1gEaIwBiAEBmAENuAEXyAEM2AEB6AEB-AELiAIBqAIDuAKWkpGbBsACAdICJDNjMmNmNmRkLThjNmUtNDMzOS1iYTBiLTZjNjdiNDE2MjE4OdgCBuACAQ&sid=4151851a79ba47c90a251a187258e784&aid=304142&ucfs=1&arphpl=1&dest_id=-38833&dest_type=city&group_adults=2&req_adults=2&no_rooms=1&group_children=0&req_children=0&hpos=24&hapos=99&sr_order=popularity&srpvid=d1665553c4f500cc&srepoch=1667563688&from=searchresults#hotelTmpl\n",
      "https://www.booking.com/hotel/ma/imperial-plaza.fr.html?label=gen173nr-1FCAEoggI46AdIM1gEaIwBiAEBmAENuAEXyAEM2AEB6AEB-AELiAIBqAIDuAKWkpGbBsACAdICJDNjMmNmNmRkLThjNmUtNDMzOS1iYTBiLTZjNjdiNDE2MjE4OdgCBuACAQ&sid=4151851a79ba47c90a251a187258e784&aid=304142&ucfs=1&arphpl=1&dest_id=-38833&dest_type=city&group_adults=2&req_adults=2&no_rooms=1&group_children=0&req_children=0&hpos=25&hapos=100&sr_order=popularity&srpvid=d1665553c4f500cc&srepoch=1667563688&from=searchresults#hotelTmpl\n",
      "https://www.booking.com/hotel/ma/riad-elias.fr.html?label=gen173nr-1FCAEoggI46AdIM1gEaIwBiAEBmAENuAEXyAEM2AEB6AEB-AELiAIBqAIDuAKWkpGbBsACAdICJDNjMmNmNmRkLThjNmUtNDMzOS1iYTBiLTZjNjdiNDE2MjE4OdgCBuACAQ&sid=4151851a79ba47c90a251a187258e784&aid=304142&ucfs=1&arphpl=1&dest_id=-38833&dest_type=city&group_adults=2&req_adults=2&no_rooms=1&group_children=0&req_children=0&hpos=1&hapos=101&sr_order=popularity&srpvid=525f5557f4b3005f&srepoch=1667563696&from_sustainable_property_sr=1&from=searchresults#hotelTmpl\n",
      "https://www.booking.com/hotel/ma/eden-lodges.fr.html?label=gen173nr-1FCAEoggI46AdIM1gEaIwBiAEBmAENuAEXyAEM2AEB6AEB-AELiAIBqAIDuAKWkpGbBsACAdICJDNjMmNmNmRkLThjNmUtNDMzOS1iYTBiLTZjNjdiNDE2MjE4OdgCBuACAQ&sid=4151851a79ba47c90a251a187258e784&aid=304142&ucfs=1&arphpl=1&dest_id=-38833&dest_type=city&group_adults=2&req_adults=2&no_rooms=1&group_children=0&req_children=0&hpos=2&hapos=102&sr_order=popularity&srpvid=525f5557f4b3005f&srepoch=1667563696&from_sustainable_property_sr=1&from=searchresults#hotelTmpl\n",
      "https://www.booking.com/hotel/ma/riad-anyssa.fr.html?label=gen173nr-1FCAEoggI46AdIM1gEaIwBiAEBmAENuAEXyAEM2AEB6AEB-AELiAIBqAIDuAKWkpGbBsACAdICJDNjMmNmNmRkLThjNmUtNDMzOS1iYTBiLTZjNjdiNDE2MjE4OdgCBuACAQ&sid=4151851a79ba47c90a251a187258e784&aid=304142&ucfs=1&arphpl=1&dest_id=-38833&dest_type=city&group_adults=2&req_adults=2&no_rooms=1&group_children=0&req_children=0&hpos=3&hapos=103&sr_order=popularity&srpvid=525f5557f4b3005f&srepoch=1667563696&from_sustainable_property_sr=1&from=searchresults#hotelTmpl\n",
      "https://www.booking.com/hotel/ma/riad-el-hara.fr.html?label=gen173nr-1FCAEoggI46AdIM1gEaIwBiAEBmAENuAEXyAEM2AEB6AEB-AELiAIBqAIDuAKWkpGbBsACAdICJDNjMmNmNmRkLThjNmUtNDMzOS1iYTBiLTZjNjdiNDE2MjE4OdgCBuACAQ&sid=4151851a79ba47c90a251a187258e784&aid=304142&ucfs=1&arphpl=1&dest_id=-38833&dest_type=city&group_adults=2&req_adults=2&no_rooms=1&group_children=0&req_children=0&hpos=4&hapos=104&sr_order=popularity&srpvid=525f5557f4b3005f&srepoch=1667563696&from=searchresults#hotelTmpl\n",
      "https://www.booking.com/hotel/ma/riad-dar-khmissa.fr.html?label=gen173nr-1FCAEoggI46AdIM1gEaIwBiAEBmAENuAEXyAEM2AEB6AEB-AELiAIBqAIDuAKWkpGbBsACAdICJDNjMmNmNmRkLThjNmUtNDMzOS1iYTBiLTZjNjdiNDE2MjE4OdgCBuACAQ&sid=4151851a79ba47c90a251a187258e784&aid=304142&ucfs=1&arphpl=1&dest_id=-38833&dest_type=city&group_adults=2&req_adults=2&no_rooms=1&group_children=0&req_children=0&hpos=5&hapos=105&sr_order=popularity&srpvid=525f5557f4b3005f&srepoch=1667563696&from=searchresults#hotelTmpl\n",
      "https://www.booking.com/hotel/ma/riad-bilkis.fr.html?label=gen173nr-1FCAEoggI46AdIM1gEaIwBiAEBmAENuAEXyAEM2AEB6AEB-AELiAIBqAIDuAKWkpGbBsACAdICJDNjMmNmNmRkLThjNmUtNDMzOS1iYTBiLTZjNjdiNDE2MjE4OdgCBuACAQ&sid=4151851a79ba47c90a251a187258e784&aid=304142&ucfs=1&arphpl=1&dest_id=-38833&dest_type=city&group_adults=2&req_adults=2&no_rooms=1&group_children=0&req_children=0&hpos=6&hapos=106&sr_order=popularity&srpvid=525f5557f4b3005f&srepoch=1667563696&from=searchresults#hotelTmpl\n",
      "https://www.booking.com/hotel/ma/riad-algora.fr.html?label=gen173nr-1FCAEoggI46AdIM1gEaIwBiAEBmAENuAEXyAEM2AEB6AEB-AELiAIBqAIDuAKWkpGbBsACAdICJDNjMmNmNmRkLThjNmUtNDMzOS1iYTBiLTZjNjdiNDE2MjE4OdgCBuACAQ&sid=4151851a79ba47c90a251a187258e784&aid=304142&ucfs=1&arphpl=1&dest_id=-38833&dest_type=city&group_adults=2&req_adults=2&no_rooms=1&group_children=0&req_children=0&hpos=7&hapos=107&sr_order=popularity&srpvid=525f5557f4b3005f&srepoch=1667563696&from_sustainable_property_sr=1&from=searchresults#hotelTmpl\n",
      "https://www.booking.com/hotel/ma/central-palace.fr.html?label=gen173nr-1FCAEoggI46AdIM1gEaIwBiAEBmAENuAEXyAEM2AEB6AEB-AELiAIBqAIDuAKWkpGbBsACAdICJDNjMmNmNmRkLThjNmUtNDMzOS1iYTBiLTZjNjdiNDE2MjE4OdgCBuACAQ&sid=4151851a79ba47c90a251a187258e784&aid=304142&ucfs=1&arphpl=1&dest_id=-38833&dest_type=city&group_adults=2&req_adults=2&no_rooms=1&group_children=0&req_children=0&hpos=8&hapos=108&sr_order=popularity&srpvid=525f5557f4b3005f&srepoch=1667563696&from=searchresults#hotelTmpl\n",
      "https://www.booking.com/hotel/ma/stars.fr.html?label=gen173nr-1FCAEoggI46AdIM1gEaIwBiAEBmAENuAEXyAEM2AEB6AEB-AELiAIBqAIDuAKWkpGbBsACAdICJDNjMmNmNmRkLThjNmUtNDMzOS1iYTBiLTZjNjdiNDE2MjE4OdgCBuACAQ&sid=4151851a79ba47c90a251a187258e784&aid=304142&ucfs=1&arphpl=1&dest_id=-38833&dest_type=city&group_adults=2&req_adults=2&no_rooms=1&group_children=0&req_children=0&hpos=9&hapos=109&sr_order=popularity&srpvid=525f5557f4b3005f&srepoch=1667563696&from_sustainable_property_sr=1&from=searchresults#hotelTmpl\n",
      "https://www.booking.com/hotel/ma/riad-lalla-fatima-marrakech.fr.html?label=gen173nr-1FCAEoggI46AdIM1gEaIwBiAEBmAENuAEXyAEM2AEB6AEB-AELiAIBqAIDuAKWkpGbBsACAdICJDNjMmNmNmRkLThjNmUtNDMzOS1iYTBiLTZjNjdiNDE2MjE4OdgCBuACAQ&sid=4151851a79ba47c90a251a187258e784&aid=304142&ucfs=1&arphpl=1&dest_id=-38833&dest_type=city&group_adults=2&req_adults=2&no_rooms=1&group_children=0&req_children=0&hpos=10&hapos=110&sr_order=popularity&srpvid=525f5557f4b3005f&srepoch=1667563696&from_sustainable_property_sr=1&from=searchresults#hotelTmpl\n",
      "https://www.booking.com/hotel/ma/villa-rosalie.fr.html?label=gen173nr-1FCAEoggI46AdIM1gEaIwBiAEBmAENuAEXyAEM2AEB6AEB-AELiAIBqAIDuAKWkpGbBsACAdICJDNjMmNmNmRkLThjNmUtNDMzOS1iYTBiLTZjNjdiNDE2MjE4OdgCBuACAQ&sid=4151851a79ba47c90a251a187258e784&aid=304142&ucfs=1&arphpl=1&dest_id=-38833&dest_type=city&group_adults=2&req_adults=2&no_rooms=1&group_children=0&req_children=0&hpos=11&hapos=111&sr_order=popularity&srpvid=525f5557f4b3005f&srepoch=1667563696&from=searchresults#hotelTmpl\n",
      "https://www.booking.com/hotel/ma/imperial-plaza.fr.html?label=gen173nr-1FCAEoggI46AdIM1gEaIwBiAEBmAENuAEXyAEM2AEB6AEB-AELiAIBqAIDuAKWkpGbBsACAdICJDNjMmNmNmRkLThjNmUtNDMzOS1iYTBiLTZjNjdiNDE2MjE4OdgCBuACAQ&sid=4151851a79ba47c90a251a187258e784&aid=304142&ucfs=1&arphpl=1&dest_id=-38833&dest_type=city&group_adults=2&req_adults=2&no_rooms=1&group_children=0&req_children=0&hpos=12&hapos=112&sr_order=popularity&srpvid=525f5557f4b3005f&srepoch=1667563696&from=searchresults#hotelTmpl\n",
      "https://www.booking.com/hotel/ma/riad-lamya-marrakech.fr.html?label=gen173nr-1FCAEoggI46AdIM1gEaIwBiAEBmAENuAEXyAEM2AEB6AEB-AELiAIBqAIDuAKWkpGbBsACAdICJDNjMmNmNmRkLThjNmUtNDMzOS1iYTBiLTZjNjdiNDE2MjE4OdgCBuACAQ&sid=4151851a79ba47c90a251a187258e784&aid=304142&ucfs=1&arphpl=1&dest_id=-38833&dest_type=city&group_adults=2&req_adults=2&no_rooms=1&group_children=0&req_children=0&hpos=13&hapos=113&sr_order=popularity&srpvid=525f5557f4b3005f&srepoch=1667563696&from=searchresults#hotelTmpl\n",
      "https://www.booking.com/hotel/ma/dar-attajmil.fr.html?label=gen173nr-1FCAEoggI46AdIM1gEaIwBiAEBmAENuAEXyAEM2AEB6AEB-AELiAIBqAIDuAKWkpGbBsACAdICJDNjMmNmNmRkLThjNmUtNDMzOS1iYTBiLTZjNjdiNDE2MjE4OdgCBuACAQ&sid=4151851a79ba47c90a251a187258e784&aid=304142&ucfs=1&arphpl=1&dest_id=-38833&dest_type=city&group_adults=2&req_adults=2&no_rooms=1&group_children=0&req_children=0&hpos=14&hapos=114&sr_order=popularity&srpvid=525f5557f4b3005f&srepoch=1667563696&from_sustainable_property_sr=1&from=searchresults#hotelTmpl\n",
      "https://www.booking.com/hotel/ma/riad-el-marah.fr.html?label=gen173nr-1FCAEoggI46AdIM1gEaIwBiAEBmAENuAEXyAEM2AEB6AEB-AELiAIBqAIDuAKWkpGbBsACAdICJDNjMmNmNmRkLThjNmUtNDMzOS1iYTBiLTZjNjdiNDE2MjE4OdgCBuACAQ&sid=4151851a79ba47c90a251a187258e784&aid=304142&ucfs=1&arphpl=1&dest_id=-38833&dest_type=city&group_adults=2&req_adults=2&no_rooms=1&group_children=0&req_children=0&hpos=15&hapos=115&sr_order=popularity&srpvid=525f5557f4b3005f&srepoch=1667563696&from=searchresults#hotelTmpl\n",
      "https://www.booking.com/hotel/ma/riad-chocolat.fr.html?label=gen173nr-1FCAEoggI46AdIM1gEaIwBiAEBmAENuAEXyAEM2AEB6AEB-AELiAIBqAIDuAKWkpGbBsACAdICJDNjMmNmNmRkLThjNmUtNDMzOS1iYTBiLTZjNjdiNDE2MjE4OdgCBuACAQ&sid=4151851a79ba47c90a251a187258e784&aid=304142&ucfs=1&arphpl=1&dest_id=-38833&dest_type=city&group_adults=2&req_adults=2&no_rooms=1&group_children=0&req_children=0&hpos=16&hapos=116&sr_order=popularity&srpvid=525f5557f4b3005f&srepoch=1667563696&from_sustainable_property_sr=1&from=searchresults#hotelTmpl\n",
      "https://www.booking.com/hotel/ma/riad-alwane.fr.html?label=gen173nr-1FCAEoggI46AdIM1gEaIwBiAEBmAENuAEXyAEM2AEB6AEB-AELiAIBqAIDuAKWkpGbBsACAdICJDNjMmNmNmRkLThjNmUtNDMzOS1iYTBiLTZjNjdiNDE2MjE4OdgCBuACAQ&sid=4151851a79ba47c90a251a187258e784&aid=304142&ucfs=1&arphpl=1&dest_id=-38833&dest_type=city&group_adults=2&req_adults=2&no_rooms=1&group_children=0&req_children=0&hpos=17&hapos=117&sr_order=popularity&srpvid=525f5557f4b3005f&srepoch=1667563696&from=searchresults#hotelTmpl\n",
      "https://www.booking.com/hotel/ma/riad-babouchta-amp-spa.fr.html?label=gen173nr-1FCAEoggI46AdIM1gEaIwBiAEBmAENuAEXyAEM2AEB6AEB-AELiAIBqAIDuAKWkpGbBsACAdICJDNjMmNmNmRkLThjNmUtNDMzOS1iYTBiLTZjNjdiNDE2MjE4OdgCBuACAQ&sid=4151851a79ba47c90a251a187258e784&aid=304142&ucfs=1&arphpl=1&dest_id=-38833&dest_type=city&group_adults=2&req_adults=2&no_rooms=1&group_children=0&req_children=0&hpos=18&hapos=118&sr_order=popularity&srpvid=525f5557f4b3005f&srepoch=1667563696&from_sustainable_property_sr=1&from=searchresults#hotelTmpl\n",
      "https://www.booking.com/hotel/ma/riad-palais-blanc.fr.html?label=gen173nr-1FCAEoggI46AdIM1gEaIwBiAEBmAENuAEXyAEM2AEB6AEB-AELiAIBqAIDuAKWkpGbBsACAdICJDNjMmNmNmRkLThjNmUtNDMzOS1iYTBiLTZjNjdiNDE2MjE4OdgCBuACAQ&sid=4151851a79ba47c90a251a187258e784&aid=304142&ucfs=1&arphpl=1&dest_id=-38833&dest_type=city&group_adults=2&req_adults=2&no_rooms=1&group_children=0&req_children=0&hpos=19&hapos=119&sr_order=popularity&srpvid=525f5557f4b3005f&srepoch=1667563696&from_sustainable_property_sr=1&from=searchresults#hotelTmpl\n",
      "https://www.booking.com/hotel/ma/riad-bensaid.fr.html?label=gen173nr-1FCAEoggI46AdIM1gEaIwBiAEBmAENuAEXyAEM2AEB6AEB-AELiAIBqAIDuAKWkpGbBsACAdICJDNjMmNmNmRkLThjNmUtNDMzOS1iYTBiLTZjNjdiNDE2MjE4OdgCBuACAQ&sid=4151851a79ba47c90a251a187258e784&aid=304142&ucfs=1&arphpl=1&dest_id=-38833&dest_type=city&group_adults=2&req_adults=2&no_rooms=1&group_children=0&req_children=0&hpos=20&hapos=120&sr_order=popularity&srpvid=525f5557f4b3005f&srepoch=1667563696&from=searchresults#hotelTmpl\n",
      "https://www.booking.com/hotel/ma/villa-ilyana.fr.html?label=gen173nr-1FCAEoggI46AdIM1gEaIwBiAEBmAENuAEXyAEM2AEB6AEB-AELiAIBqAIDuAKWkpGbBsACAdICJDNjMmNmNmRkLThjNmUtNDMzOS1iYTBiLTZjNjdiNDE2MjE4OdgCBuACAQ&sid=4151851a79ba47c90a251a187258e784&aid=304142&ucfs=1&arphpl=1&dest_id=-38833&dest_type=city&group_adults=2&req_adults=2&no_rooms=1&group_children=0&req_children=0&hpos=21&hapos=121&sr_order=popularity&srpvid=525f5557f4b3005f&srepoch=1667563696&from=searchresults#hotelTmpl\n",
      "https://www.booking.com/hotel/ma/utopia-suites-and-spa.fr.html?label=gen173nr-1FCAEoggI46AdIM1gEaIwBiAEBmAENuAEXyAEM2AEB6AEB-AELiAIBqAIDuAKWkpGbBsACAdICJDNjMmNmNmRkLThjNmUtNDMzOS1iYTBiLTZjNjdiNDE2MjE4OdgCBuACAQ&sid=4151851a79ba47c90a251a187258e784&aid=304142&ucfs=1&arphpl=1&dest_id=-38833&dest_type=city&group_adults=2&req_adults=2&no_rooms=1&group_children=0&req_children=0&hpos=22&hapos=122&sr_order=popularity&srpvid=525f5557f4b3005f&srepoch=1667563696&from=searchresults#hotelTmpl\n",
      "https://www.booking.com/hotel/ma/riad-nadeg10.fr.html?label=gen173nr-1FCAEoggI46AdIM1gEaIwBiAEBmAENuAEXyAEM2AEB6AEB-AELiAIBqAIDuAKWkpGbBsACAdICJDNjMmNmNmRkLThjNmUtNDMzOS1iYTBiLTZjNjdiNDE2MjE4OdgCBuACAQ&sid=4151851a79ba47c90a251a187258e784&aid=304142&ucfs=1&arphpl=1&dest_id=-38833&dest_type=city&group_adults=2&req_adults=2&no_rooms=1&group_children=0&req_children=0&hpos=23&hapos=123&sr_order=popularity&srpvid=525f5557f4b3005f&srepoch=1667563696&from_sustainable_property_sr=1&from=searchresults#hotelTmpl\n",
      "https://www.booking.com/hotel/ma/riad-la-porte-des-5-jardins.fr.html?label=gen173nr-1FCAEoggI46AdIM1gEaIwBiAEBmAENuAEXyAEM2AEB6AEB-AELiAIBqAIDuAKWkpGbBsACAdICJDNjMmNmNmRkLThjNmUtNDMzOS1iYTBiLTZjNjdiNDE2MjE4OdgCBuACAQ&sid=4151851a79ba47c90a251a187258e784&aid=304142&ucfs=1&arphpl=1&dest_id=-38833&dest_type=city&group_adults=2&req_adults=2&no_rooms=1&group_children=0&req_children=0&hpos=24&hapos=124&sr_order=popularity&srpvid=525f5557f4b3005f&srepoch=1667563696&from=searchresults#hotelTmpl\n",
      "https://www.booking.com/hotel/ma/riad-dar-beldia.fr.html?label=gen173nr-1FCAEoggI46AdIM1gEaIwBiAEBmAENuAEXyAEM2AEB6AEB-AELiAIBqAIDuAKWkpGbBsACAdICJDNjMmNmNmRkLThjNmUtNDMzOS1iYTBiLTZjNjdiNDE2MjE4OdgCBuACAQ&sid=4151851a79ba47c90a251a187258e784&aid=304142&ucfs=1&arphpl=1&dest_id=-38833&dest_type=city&group_adults=2&req_adults=2&no_rooms=1&group_children=0&req_children=0&hpos=25&hapos=125&sr_order=popularity&srpvid=525f5557f4b3005f&srepoch=1667563696&from_sustainable_property_sr=1&from=searchresults#hotelTmpl\n"
     ]
    }
   ],
   "source": [
    "for i in range(len(links)):\n",
    "    print(links[i])"
   ]
  },
  {
   "cell_type": "code",
   "execution_count": 20,
   "id": "ab92c82a",
   "metadata": {},
   "outputs": [
    {
     "data": {
      "text/plain": [
       "0"
      ]
     },
     "execution_count": 20,
     "metadata": {},
     "output_type": "execute_result"
    }
   ],
   "source": [
    "len(links)-len(set(links))"
   ]
  },
  {
   "cell_type": "code",
   "execution_count": 21,
   "id": "ee758087",
   "metadata": {},
   "outputs": [
    {
     "name": "stdout",
     "output_type": "stream",
     "text": [
      "125\n",
      "125\n"
     ]
    }
   ],
   "source": [
    "linktry=links\n",
    "print(len(links))\n",
    "print(len(linktry))"
   ]
  },
  {
   "cell_type": "code",
   "execution_count": 23,
   "id": "36075690",
   "metadata": {},
   "outputs": [
    {
     "name": "stdout",
     "output_type": "stream",
     "text": [
      "https://www.booking.com/hotel/ma/riad-ba-sidi-marrakech.fr.html?label=gen173nr-1FCAEoggI46AdIM1gEaIwBiAEBmAENuAEXyAEM2AEB6AEB-AELiAIBqAIDuAKWkpGbBsACAdICJDNjMmNmNmRkLThjNmUtNDMzOS1iYTBiLTZjNjdiNDE2MjE4OdgCBuACAQ&sid=4151851a79ba47c90a251a187258e784&aid=304142&ucfs=1&arphpl=1&dest_id=-38833&dest_type=city&group_adults=2&req_adults=2&no_rooms=1&group_children=0&req_children=0&hpos=1&hapos=1&sr_order=popularity&srpvid=3674554718be000b&srepoch=1667563663&from_sustainable_property_sr=1&from=searchresults#hotelTmpl\n",
      "************\n",
      "https://www.booking.com/hotel/ma/riad-ba-sidi-marrakech.fr.html?label=gen173nr-1FCAEoggI46AdIM1gEaIwBiAEBmAENuAEXyAEM2AEB6AEB-AELiAIBqAIDuAKWkpGbBsACAdICJDNjMmNmNmRkLThjNmUtNDMzOS1iYTBiLTZjNjdiNDE2MjE4OdgCBuACAQ&sid=4151851a79ba47c90a251a187258e784&aid=304142&ucfs=1&arphpl=1&dest_id=-38833&dest_type=city&group_adults=2&req_adults=2&no_rooms=1&group_children=0&req_children=0&hpos=1&hapos=1&sr_order=popularity&srpvid=3674554718be000b&srepoch=1667563663&from_sustainable_property_sr=1&from=searchresults\n",
      "************\n",
      "https://www.booking.com/hotel/ma/riad-ba-sidi-marrakech.fr.html?label=gen173nr-1FCAEoggI46AdIM1gEaIwBiAEBmAENuAEXyAEM2AEB6AEB-AELiAIBqAIDuAKWkpGbBsACAdICJDNjMmNmNmRkLThjNmUtNDMzOS1iYTBiLTZjNjdiNDE2MjE4OdgCBuACAQ&sid=4151851a79ba47c90a251a187258e784&aid=304142&ucfs=1&arphpl=1&dest_id=-38833&dest_type=city&group_adults=2&req_adults=2&no_rooms=1&group_children=0&req_children=0&hpos=1&hapos=1&sr_order=popularity&srpvid=3674554718be000b&srepoch=1667563663&from_sustainable_property_sr=1&from=searchresults#tab-reviews\n"
     ]
    }
   ],
   "source": [
    "ab=\"https://www.booking.com/hotel/ma/riad-ba-sidi-marrakech.fr.html?label=gen173nr-1FCAEoggI46AdIM1gEaIwBiAEBmAENuAEXyAEM2AEB6AEB-AELiAIBqAIDuAKWkpGbBsACAdICJDNjMmNmNmRkLThjNmUtNDMzOS1iYTBiLTZjNjdiNDE2MjE4OdgCBuACAQ&sid=4151851a79ba47c90a251a187258e784&aid=304142&ucfs=1&arphpl=1&dest_id=-38833&dest_type=city&group_adults=2&req_adults=2&no_rooms=1&group_children=0&req_children=0&hpos=1&hapos=1&sr_order=popularity&srpvid=fc60a3470b02010d&srepoch=1667517201&from_sustainable_property_sr=1&from=searchresults#hotelTmpl\"\n",
    "\n",
    "#res=[sub[ : -10] for sub in linktry]\n",
    "#res[0]\n",
    "URLS=[ str(url)+'#tab-reviews' for url in res]\n",
    "print(linktry[0])\n",
    "print('************')\n",
    "print(res[0])\n",
    "print('************')\n",
    "print(URLS[0])"
   ]
  },
  {
   "cell_type": "markdown",
   "id": "9520375b",
   "metadata": {},
   "source": [
    "# Comments from each URL using Selenium click"
   ]
  },
  {
   "cell_type": "code",
   "execution_count": 24,
   "id": "143376a1",
   "metadata": {},
   "outputs": [],
   "source": [
    "import time\n",
    "from selenium.webdriver.support.select import Select\n",
    "import sys\n",
    "from selenium.webdriver.support.ui import WebDriverWait\n",
    "from selenium.webdriver.common.by import By\n",
    "from selenium.webdriver.support import expected_conditions as EC\n",
    "#next_=driver.find_element(by=By.XPATH, value='//*[@id=\"review_list_page_container\"]/div[4]/div/div[1]/div/div[3]/a')\n",
    "#next_.click()\n",
    "#time.sleep(1)"
   ]
  },
  {
   "cell_type": "code",
   "execution_count": 12,
   "id": "1cc7e041",
   "metadata": {},
   "outputs": [
    {
     "data": {
      "text/plain": [
       "'def get_all_pages():\\n    urls=[]\\n    page_number=0\\n    for i in range(123):\\n        i=f\"https://www.booking.com/reviewlist.fr.html?aid=304142&label=gen173nr-1FCAEoggI46AdIM1gEaIwBiAEBmAENuAEXyAEM2AEB6AEB-AELiAIBqAIDuAKZioqbBsACAdICJGI2NzE5MmU3LWY0YTUtNDJiMS1hZWI4LWExNWU0ZTk5MDExMtgCBuACAQ&sid=e5fe7c6755a3c6501910b5f8be358302&cc1=ma;dist=1;pagename=riad-l-oiseau-du-paradis;srpvid=c0d1690f2edb00b9;type=total&&offset={page_number};rows=10\"\\n        page_number+=10\\n        urls.append(i)\\n    return urls'"
      ]
     },
     "execution_count": 12,
     "metadata": {},
     "output_type": "execute_result"
    }
   ],
   "source": [
    "'''def get_all_pages():\n",
    "    urls=[]\n",
    "    page_number=0\n",
    "    for i in range(123):\n",
    "        i=f\"https://www.booking.com/reviewlist.fr.html?aid=304142&label=gen173nr-1FCAEoggI46AdIM1gEaIwBiAEBmAENuAEXyAEM2AEB6AEB-AELiAIBqAIDuAKZioqbBsACAdICJGI2NzE5MmU3LWY0YTUtNDJiMS1hZWI4LWExNWU0ZTk5MDExMtgCBuACAQ&sid=e5fe7c6755a3c6501910b5f8be358302&cc1=ma;dist=1;pagename=riad-l-oiseau-du-paradis;srpvid=c0d1690f2edb00b9;type=total&&offset={page_number};rows=10\"\n",
    "        page_number+=10\n",
    "        urls.append(i)\n",
    "    return urls'''"
   ]
  },
  {
   "cell_type": "code",
   "execution_count": 25,
   "id": "900da81d",
   "metadata": {},
   "outputs": [
    {
     "data": {
      "text/plain": [
       "'editeur1=[]\\nnatio1=[]\\nchambre1=[]\\nduree1=[]\\nreview_title1=[]\\nreview_score1=[]\\ncommentaire1=[]'"
      ]
     },
     "execution_count": 25,
     "metadata": {},
     "output_type": "execute_result"
    }
   ],
   "source": [
    "'''editeur1=[]\n",
    "natio1=[]\n",
    "chambre1=[]\n",
    "duree1=[]\n",
    "review_title1=[]\n",
    "review_score1=[]\n",
    "commentaire1=[]'''"
   ]
  },
  {
   "cell_type": "code",
   "execution_count": 92,
   "id": "2c1a9f80",
   "metadata": {},
   "outputs": [],
   "source": [
    "with open(\"C:/Users/Soukaina/OneDrive/Bureau/Try5.csv\",\"w\",newline=\"\",encoding='utf-8-sig') as myfile:\n",
    "        wr=csv.writer(myfile)\n",
    "        wr.writerow([\"Editeur\",\"Nationalite\",\"Chambre\",\"Duree\",\"Review_title\",\"Review_score\",\"Commentaire\"])"
   ]
  },
  {
   "cell_type": "code",
   "execution_count": 111,
   "id": "ed6cd7aa",
   "metadata": {},
   "outputs": [],
   "source": [
    "def parse(url):\n",
    "    options=webdriver.ChromeOptions()\n",
    "    #options.add_arguments('/content/chromedrvier.exe')\n",
    "    options.add_argument('--incognito')\n",
    "    driver=webdriver.Chrome(options=options)\n",
    "    driver.get(url)\n",
    "    driver.maximize_window()\n",
    "    time.sleep(2)\n",
    "    src=driver.page_source\n",
    "    soup=BeautifulSoup(src,'html.parser')\n",
    "    comments=soup.find_all('div',{'class':'c-review-block'})\n",
    "    editeur1=[]\n",
    "    natio1=[]\n",
    "    chambre1=[]\n",
    "    duree1=[]\n",
    "    review_title1=[]\n",
    "    review_score1=[]\n",
    "    commentaire1=[]\n",
    "    \n",
    "    '''with open(\"C:/Users/Soukaina/OneDrive/Bureau/Try5.csv\",\"w\",newline=\"\",encoding='utf-8-sig') as myfile:\n",
    "        wr=csv.writer(myfile)\n",
    "        wr.writerow([\"Editeur\",\"Nationalite\",\"Chambre\",\"Duree\",\"Review_title\",\"Review_score\",\"Commentaire\"])'''\n",
    "    while True:\n",
    "        try:\n",
    "            #wait = WebDriverWait(driver, 3) \n",
    "            for comment in comments:\n",
    "\n",
    "                try:\n",
    "                    editeur=(comment.find('span',{'class':'bui-avatar-block__title'}).text).strip()\n",
    "                except AttributeError as e:\n",
    "                    editeur=\"\"\n",
    "                editeur1.append(editeur)\n",
    "                try:\n",
    "                    natio=(comment.find('span',{'class':'bui-avatar-block__subtitle'}).text).strip()\n",
    "                except AttributeError as e:\n",
    "                    natio=\"\"\n",
    "                natio1.append(natio)\n",
    "                try:\n",
    "                    chambre=(comment.find('div',{'class':'bui-list__body'}).text).strip()\n",
    "                except AttributeError as e:\n",
    "                    chambre=\"\"\n",
    "                chambre1.append(chambre)\n",
    "                try:\n",
    "                    duree=(comment.find('ul',{'class':'c-review-block__row'}).text.replace('\\n','')).strip()\n",
    "                except AttributeError as e:\n",
    "                    duree=\"\"\n",
    "                duree1.append(duree)\n",
    "                try:\n",
    "                    review_title=(comment.find('h3',{'class':'c-review__title--ltr'}).text).strip()\n",
    "                except AttributeError as e:\n",
    "                    review_title=\"\"\n",
    "                review_title1.append(review_title)\n",
    "                try:\n",
    "                    review_score=(comment.find('div',{'class':'bui-review-score__badge'}).text).strip()\n",
    "                except AttributeError as e:\n",
    "                    review_score=\"\"\n",
    "                review_score1.append(review_score)\n",
    "                try:\n",
    "                    commentaire=(comment.find('div',{'class':'c-review'}).text.replace('\\n\\n\\n\\n',\"\")).strip()\n",
    "                except AttributeError as e:\n",
    "                    commentaire=\"\"\n",
    "                commentaire1.append(commentaire)\n",
    "            time.sleep(2)\n",
    "//*[@id=\"review_list_page_container\"]/div[4]/div/div[1]/div/div[3]/a/svg\n",
    "//*[@id=\"review_list_page_container\"]/div[4]/div/div[1]/div/div[3]/a\n",
    "            next_=driver.find_element(by=By.XPATH, value='//*[@id=\"review_list_page_container\"]/div[4]/div/div[1]/div/div[3]/a')\n",
    "                            #next_.click()\n",
    "            driver.execute_script(\"arguments[0].click();\",next_)\n",
    "            time.sleep(2)\n",
    "            src1=driver.page_source\n",
    "            soup1=BeautifulSoup(src1,'html.parser')\n",
    "            comments=soup1.find_all('div',{'class':'c-review-block'})\n",
    "        except:\n",
    "            print('no more pages to the next hotel!')\n",
    "            break\n",
    "        \n",
    "\n",
    "    info=[editeur1,natio1,chambre1,duree1,review_title1,review_score1,commentaire1]\n",
    "    exported=zip_longest(*info)\n",
    "    with open(\"C:/Users/Soukaina/OneDrive/Bureau/Try5.csv\",\"a\",newline=\"\",encoding='utf-8-sig') as myfile:\n",
    "        wr=csv.writer(myfile)\n",
    "        wr.writerows(exported)\n",
    "       # writer.writerow([x.strip() for x in (n, p, l)])\n",
    "       # [n.strip(), p.strip(), l.strip()]"
   ]
  },
  {
   "cell_type": "code",
   "execution_count": 112,
   "id": "e430f79d",
   "metadata": {},
   "outputs": [],
   "source": [
    "def parse_all():\n",
    "    for url in URLS[11:13]:\n",
    "        print(\"On parse :\"+url)\n",
    "        parse(url)"
   ]
  },
  {
   "cell_type": "code",
   "execution_count": 113,
   "id": "ce5dbf45",
   "metadata": {},
   "outputs": [
    {
     "name": "stdout",
     "output_type": "stream",
     "text": [
      "On parse :https://www.booking.com/hotel/ma/riad-shama-marrakech.fr.html?label=gen173nr-1FCAEoggI46AdIM1gEaIwBiAEBmAENuAEXyAEM2AEB6AEB-AELiAIBqAIDuAKWkpGbBsACAdICJDNjMmNmNmRkLThjNmUtNDMzOS1iYTBiLTZjNjdiNDE2MjE4OdgCBuACAQ&sid=4151851a79ba47c90a251a187258e784&aid=304142&ucfs=1&arphpl=1&dest_id=-38833&dest_type=city&group_adults=2&req_adults=2&no_rooms=1&group_children=0&req_children=0&hpos=12&hapos=12&sr_order=popularity&srpvid=3674554718be000b&srepoch=1667563663&from_sustainable_property_sr=1&from=searchresults#tab-reviews\n",
      "no more pages to the next hotel!\n",
      "On parse :https://www.booking.com/hotel/ma/riad-litzy.fr.html?label=gen173nr-1FCAEoggI46AdIM1gEaIwBiAEBmAENuAEXyAEM2AEB6AEB-AELiAIBqAIDuAKWkpGbBsACAdICJDNjMmNmNmRkLThjNmUtNDMzOS1iYTBiLTZjNjdiNDE2MjE4OdgCBuACAQ&sid=4151851a79ba47c90a251a187258e784&aid=304142&ucfs=1&arphpl=1&dest_id=-38833&dest_type=city&group_adults=2&req_adults=2&no_rooms=1&group_children=0&req_children=0&hpos=13&hapos=13&sr_order=popularity&srpvid=3674554718be000b&srepoch=1667563663&from_sustainable_property_sr=1&from=searchresults#tab-reviews\n",
      "no more pages to the next hotel!\n"
     ]
    }
   ],
   "source": [
    "parse_all()"
   ]
  },
  {
   "cell_type": "code",
   "execution_count": 110,
   "id": "3aee49a8",
   "metadata": {},
   "outputs": [
    {
     "data": {
      "text/plain": [
       "['https://www.booking.com/hotel/ma/amp-spa-riad-el-walla.fr.html?label=gen173nr-1FCAEoggI46AdIM1gEaIwBiAEBmAENuAEXyAEM2AEB6AEB-AELiAIBqAIDuAKWkpGbBsACAdICJDNjMmNmNmRkLThjNmUtNDMzOS1iYTBiLTZjNjdiNDE2MjE4OdgCBuACAQ&sid=4151851a79ba47c90a251a187258e784&aid=304142&ucfs=1&arphpl=1&dest_id=-38833&dest_type=city&group_adults=2&req_adults=2&no_rooms=1&group_children=0&req_children=0&hpos=2&hapos=2&sr_order=popularity&srpvid=3674554718be000b&srepoch=1667563663&from=searchresults#tab-reviews',\n",
       " 'https://www.booking.com/hotel/ma/riad-nelia.fr.html?label=gen173nr-1FCAEoggI46AdIM1gEaIwBiAEBmAENuAEXyAEM2AEB6AEB-AELiAIBqAIDuAKWkpGbBsACAdICJDNjMmNmNmRkLThjNmUtNDMzOS1iYTBiLTZjNjdiNDE2MjE4OdgCBuACAQ&sid=4151851a79ba47c90a251a187258e784&aid=304142&ucfs=1&arphpl=1&dest_id=-38833&dest_type=city&group_adults=2&req_adults=2&no_rooms=1&group_children=0&req_children=0&hpos=3&hapos=3&sr_order=popularity&srpvid=3674554718be000b&srepoch=1667563663&from=searchresults#tab-reviews',\n",
       " 'https://www.booking.com/hotel/ma/riad-qodwa.fr.html?label=gen173nr-1FCAEoggI46AdIM1gEaIwBiAEBmAENuAEXyAEM2AEB6AEB-AELiAIBqAIDuAKWkpGbBsACAdICJDNjMmNmNmRkLThjNmUtNDMzOS1iYTBiLTZjNjdiNDE2MjE4OdgCBuACAQ&sid=4151851a79ba47c90a251a187258e784&aid=304142&ucfs=1&arphpl=1&dest_id=-38833&dest_type=city&group_adults=2&req_adults=2&no_rooms=1&group_children=0&req_children=0&hpos=4&hapos=4&sr_order=popularity&srpvid=3674554718be000b&srepoch=1667563663&from=searchresults#tab-reviews',\n",
       " 'https://www.booking.com/hotel/ma/racine.fr.html?label=gen173nr-1FCAEoggI46AdIM1gEaIwBiAEBmAENuAEXyAEM2AEB6AEB-AELiAIBqAIDuAKWkpGbBsACAdICJDNjMmNmNmRkLThjNmUtNDMzOS1iYTBiLTZjNjdiNDE2MjE4OdgCBuACAQ&sid=4151851a79ba47c90a251a187258e784&aid=304142&ucfs=1&arphpl=1&dest_id=-38833&dest_type=city&group_adults=2&req_adults=2&no_rooms=1&group_children=0&req_children=0&hpos=5&hapos=5&sr_order=popularity&srpvid=3674554718be000b&srepoch=1667563663&from=searchresults#tab-reviews',\n",
       " 'https://www.booking.com/hotel/ma/riad-al-rimal.fr.html?label=gen173nr-1FCAEoggI46AdIM1gEaIwBiAEBmAENuAEXyAEM2AEB6AEB-AELiAIBqAIDuAKWkpGbBsACAdICJDNjMmNmNmRkLThjNmUtNDMzOS1iYTBiLTZjNjdiNDE2MjE4OdgCBuACAQ&sid=4151851a79ba47c90a251a187258e784&aid=304142&ucfs=1&arphpl=1&dest_id=-38833&dest_type=city&group_adults=2&req_adults=2&no_rooms=1&group_children=0&req_children=0&hpos=6&hapos=6&sr_order=popularity&srpvid=3674554718be000b&srepoch=1667563663&from=searchresults#tab-reviews',\n",
       " 'https://www.booking.com/hotel/ma/riad-l-oiseau-du-paradis.fr.html?label=gen173nr-1FCAEoggI46AdIM1gEaIwBiAEBmAENuAEXyAEM2AEB6AEB-AELiAIBqAIDuAKWkpGbBsACAdICJDNjMmNmNmRkLThjNmUtNDMzOS1iYTBiLTZjNjdiNDE2MjE4OdgCBuACAQ&sid=4151851a79ba47c90a251a187258e784&aid=304142&ucfs=1&arphpl=1&dest_id=-38833&dest_type=city&group_adults=2&req_adults=2&no_rooms=1&group_children=0&req_children=0&hpos=7&hapos=7&sr_order=popularity&srpvid=3674554718be000b&srepoch=1667563663&from=searchresults#tab-reviews',\n",
       " 'https://www.booking.com/hotel/ma/el-olivar-palace-marrakech.fr.html?label=gen173nr-1FCAEoggI46AdIM1gEaIwBiAEBmAENuAEXyAEM2AEB6AEB-AELiAIBqAIDuAKWkpGbBsACAdICJDNjMmNmNmRkLThjNmUtNDMzOS1iYTBiLTZjNjdiNDE2MjE4OdgCBuACAQ&sid=4151851a79ba47c90a251a187258e784&aid=304142&ucfs=1&arphpl=1&dest_id=-38833&dest_type=city&group_adults=2&req_adults=2&no_rooms=1&group_children=0&req_children=0&hpos=8&hapos=8&sr_order=popularity&srpvid=3674554718be000b&srepoch=1667563663&from=searchresults#tab-reviews',\n",
       " 'https://www.booking.com/hotel/ma/riad-o-lika.fr.html?label=gen173nr-1FCAEoggI46AdIM1gEaIwBiAEBmAENuAEXyAEM2AEB6AEB-AELiAIBqAIDuAKWkpGbBsACAdICJDNjMmNmNmRkLThjNmUtNDMzOS1iYTBiLTZjNjdiNDE2MjE4OdgCBuACAQ&sid=4151851a79ba47c90a251a187258e784&aid=304142&ucfs=1&arphpl=1&dest_id=-38833&dest_type=city&group_adults=2&req_adults=2&no_rooms=1&group_children=0&req_children=0&hpos=9&hapos=9&sr_order=popularity&srpvid=3674554718be000b&srepoch=1667563663&from_sustainable_property_sr=1&from=searchresults#tab-reviews',\n",
       " 'https://www.booking.com/hotel/ma/riad-farhan.fr.html?label=gen173nr-1FCAEoggI46AdIM1gEaIwBiAEBmAENuAEXyAEM2AEB6AEB-AELiAIBqAIDuAKWkpGbBsACAdICJDNjMmNmNmRkLThjNmUtNDMzOS1iYTBiLTZjNjdiNDE2MjE4OdgCBuACAQ&sid=4151851a79ba47c90a251a187258e784&aid=304142&ucfs=1&arphpl=1&dest_id=-38833&dest_type=city&group_adults=2&req_adults=2&no_rooms=1&group_children=0&req_children=0&hpos=10&hapos=10&sr_order=popularity&srpvid=3674554718be000b&srepoch=1667563663&from_sustainable_property_sr=1&from=searchresults#tab-reviews',\n",
       " 'https://www.booking.com/hotel/ma/palmeraie-village-3-marrakech.fr.html?label=gen173nr-1FCAEoggI46AdIM1gEaIwBiAEBmAENuAEXyAEM2AEB6AEB-AELiAIBqAIDuAKWkpGbBsACAdICJDNjMmNmNmRkLThjNmUtNDMzOS1iYTBiLTZjNjdiNDE2MjE4OdgCBuACAQ&sid=4151851a79ba47c90a251a187258e784&aid=304142&ucfs=1&arphpl=1&dest_id=-38833&dest_type=city&group_adults=2&req_adults=2&no_rooms=1&group_children=0&req_children=0&hpos=11&hapos=11&sr_order=popularity&srpvid=3674554718be000b&srepoch=1667563663&from_sustainable_property_sr=1&from=searchresults#tab-reviews',\n",
       " 'https://www.booking.com/hotel/ma/riad-shama-marrakech.fr.html?label=gen173nr-1FCAEoggI46AdIM1gEaIwBiAEBmAENuAEXyAEM2AEB6AEB-AELiAIBqAIDuAKWkpGbBsACAdICJDNjMmNmNmRkLThjNmUtNDMzOS1iYTBiLTZjNjdiNDE2MjE4OdgCBuACAQ&sid=4151851a79ba47c90a251a187258e784&aid=304142&ucfs=1&arphpl=1&dest_id=-38833&dest_type=city&group_adults=2&req_adults=2&no_rooms=1&group_children=0&req_children=0&hpos=12&hapos=12&sr_order=popularity&srpvid=3674554718be000b&srepoch=1667563663&from_sustainable_property_sr=1&from=searchresults#tab-reviews',\n",
       " 'https://www.booking.com/hotel/ma/riad-litzy.fr.html?label=gen173nr-1FCAEoggI46AdIM1gEaIwBiAEBmAENuAEXyAEM2AEB6AEB-AELiAIBqAIDuAKWkpGbBsACAdICJDNjMmNmNmRkLThjNmUtNDMzOS1iYTBiLTZjNjdiNDE2MjE4OdgCBuACAQ&sid=4151851a79ba47c90a251a187258e784&aid=304142&ucfs=1&arphpl=1&dest_id=-38833&dest_type=city&group_adults=2&req_adults=2&no_rooms=1&group_children=0&req_children=0&hpos=13&hapos=13&sr_order=popularity&srpvid=3674554718be000b&srepoch=1667563663&from_sustainable_property_sr=1&from=searchresults#tab-reviews']"
      ]
     },
     "execution_count": 110,
     "metadata": {},
     "output_type": "execute_result"
    }
   ],
   "source": [
    "URLS[1:13]"
   ]
  },
  {
   "cell_type": "code",
   "execution_count": 116,
   "id": "966c3113",
   "metadata": {},
   "outputs": [
    {
     "data": {
      "text/html": [
       "<div>\n",
       "<style scoped>\n",
       "    .dataframe tbody tr th:only-of-type {\n",
       "        vertical-align: middle;\n",
       "    }\n",
       "\n",
       "    .dataframe tbody tr th {\n",
       "        vertical-align: top;\n",
       "    }\n",
       "\n",
       "    .dataframe thead th {\n",
       "        text-align: right;\n",
       "    }\n",
       "</style>\n",
       "<table border=\"1\" class=\"dataframe\">\n",
       "  <thead>\n",
       "    <tr style=\"text-align: right;\">\n",
       "      <th></th>\n",
       "      <th>Editeur</th>\n",
       "      <th>Nationalite</th>\n",
       "      <th>Chambre</th>\n",
       "      <th>Duree</th>\n",
       "      <th>Review_title</th>\n",
       "      <th>Review_score</th>\n",
       "      <th>Commentaire</th>\n",
       "    </tr>\n",
       "  </thead>\n",
       "  <tbody>\n",
       "    <tr>\n",
       "      <th>0</th>\n",
       "      <td>Imane</td>\n",
       "      <td>Maroc</td>\n",
       "      <td>Chambre Double Standard</td>\n",
       "      <td>2 nuits · juin 2021</td>\n",
       "      <td>Le meilleur riad a marrakech je recommande viv...</td>\n",
       "      <td>10</td>\n",
       "      <td>A aimé  · Le service et personnel très attenti...</td>\n",
       "    </tr>\n",
       "    <tr>\n",
       "      <th>1</th>\n",
       "      <td>Thibaut</td>\n",
       "      <td>Belgique</td>\n",
       "      <td>Suite Junior</td>\n",
       "      <td>6 nuits · octobre 2022</td>\n",
       "      <td>Tres beau Riad avec un personnel au petit soin</td>\n",
       "      <td>8,0</td>\n",
       "      <td>A aimé  · L’emplacement, la gentillesse du per...</td>\n",
       "    </tr>\n",
       "    <tr>\n",
       "      <th>2</th>\n",
       "      <td>Elisabeth</td>\n",
       "      <td>Suisse</td>\n",
       "      <td>Chambre Double Standard</td>\n",
       "      <td>1 nuit · octobre 2022</td>\n",
       "      <td>Très joli et l’accueil au top</td>\n",
       "      <td>8,0</td>\n",
       "      <td>A aimé  · Le Riad se trouve à l’entrée de la m...</td>\n",
       "    </tr>\n",
       "    <tr>\n",
       "      <th>3</th>\n",
       "      <td>Alina</td>\n",
       "      <td>Suisse</td>\n",
       "      <td>Chambre Double Standard</td>\n",
       "      <td>1 nuit · octobre 2022</td>\n",
       "      <td>Très bien</td>\n",
       "      <td>8,0</td>\n",
       "      <td>A aimé  · Hammam et massages \\nLocalisation\\nC...</td>\n",
       "    </tr>\n",
       "    <tr>\n",
       "      <th>4</th>\n",
       "      <td>Veth</td>\n",
       "      <td>France</td>\n",
       "      <td>Chambre Double Supérieure</td>\n",
       "      <td>2 nuits · octobre 2022</td>\n",
       "      <td>Très bonne expérience</td>\n",
       "      <td>9,0</td>\n",
       "      <td>A aimé  · Le calme, la beauté du riad et cet e...</td>\n",
       "    </tr>\n",
       "    <tr>\n",
       "      <th>5</th>\n",
       "      <td>Nicolas</td>\n",
       "      <td>France</td>\n",
       "      <td>Chambre Double Standard</td>\n",
       "      <td>2 nuits · octobre 2022</td>\n",
       "      <td>Bel endroit mais avec des chambres ou on camou...</td>\n",
       "      <td>8,0</td>\n",
       "      <td>A aimé  · Lieu très beau, très propre dans l’e...</td>\n",
       "    </tr>\n",
       "    <tr>\n",
       "      <th>6</th>\n",
       "      <td>Karim</td>\n",
       "      <td>Royaume-Uni</td>\n",
       "      <td>Chambre Double Supérieure</td>\n",
       "      <td>1 nuit · septembre 2022</td>\n",
       "      <td>Excellent</td>\n",
       "      <td>9,0</td>\n",
       "      <td>A aimé  · Le personnel au petit soin et agréab...</td>\n",
       "    </tr>\n",
       "    <tr>\n",
       "      <th>7</th>\n",
       "      <td>Christophe</td>\n",
       "      <td>France</td>\n",
       "      <td>Chambre Double Supérieure</td>\n",
       "      <td>4 nuits · août 2022</td>\n",
       "      <td>Très bien</td>\n",
       "      <td>8,0</td>\n",
       "      <td>A aimé  · L'emplacement, la déco, le personnel</td>\n",
       "    </tr>\n",
       "    <tr>\n",
       "      <th>8</th>\n",
       "      <td>Erica</td>\n",
       "      <td>Suisse</td>\n",
       "      <td>Chambre Double Supérieure</td>\n",
       "      <td>1 nuit · septembre 2022</td>\n",
       "      <td>plein les yeux, le coeur et le calme</td>\n",
       "      <td>9,0</td>\n",
       "      <td>A aimé  · le tout entre la décoration, la prop...</td>\n",
       "    </tr>\n",
       "    <tr>\n",
       "      <th>9</th>\n",
       "      <td>Mathilde</td>\n",
       "      <td>France</td>\n",
       "      <td>Suite Familiale Deluxe</td>\n",
       "      <td>2 nuits · août 2022</td>\n",
       "      <td>Riad très bien placé et très joli. Piscine trè...</td>\n",
       "      <td>10</td>\n",
       "      <td>A aimé  · Riad très bien placé et très joli</td>\n",
       "    </tr>\n",
       "  </tbody>\n",
       "</table>\n",
       "</div>"
      ],
      "text/plain": [
       "      Editeur  Nationalite                    Chambre  \\\n",
       "0       Imane        Maroc    Chambre Double Standard   \n",
       "1     Thibaut     Belgique               Suite Junior   \n",
       "2   Elisabeth       Suisse    Chambre Double Standard   \n",
       "3       Alina       Suisse    Chambre Double Standard   \n",
       "4        Veth       France  Chambre Double Supérieure   \n",
       "5     Nicolas       France    Chambre Double Standard   \n",
       "6       Karim  Royaume-Uni  Chambre Double Supérieure   \n",
       "7  Christophe       France  Chambre Double Supérieure   \n",
       "8       Erica       Suisse  Chambre Double Supérieure   \n",
       "9    Mathilde       France     Suite Familiale Deluxe   \n",
       "\n",
       "                     Duree                                       Review_title  \\\n",
       "0      2 nuits · juin 2021  Le meilleur riad a marrakech je recommande viv...   \n",
       "1   6 nuits · octobre 2022     Tres beau Riad avec un personnel au petit soin   \n",
       "2    1 nuit · octobre 2022                      Très joli et l’accueil au top   \n",
       "3    1 nuit · octobre 2022                                          Très bien   \n",
       "4   2 nuits · octobre 2022                              Très bonne expérience   \n",
       "5   2 nuits · octobre 2022  Bel endroit mais avec des chambres ou on camou...   \n",
       "6  1 nuit · septembre 2022                                          Excellent   \n",
       "7      4 nuits · août 2022                                          Très bien   \n",
       "8  1 nuit · septembre 2022               plein les yeux, le coeur et le calme   \n",
       "9      2 nuits · août 2022  Riad très bien placé et très joli. Piscine trè...   \n",
       "\n",
       "  Review_score                                        Commentaire  \n",
       "0           10  A aimé  · Le service et personnel très attenti...  \n",
       "1          8,0  A aimé  · L’emplacement, la gentillesse du per...  \n",
       "2          8,0  A aimé  · Le Riad se trouve à l’entrée de la m...  \n",
       "3          8,0  A aimé  · Hammam et massages \\nLocalisation\\nC...  \n",
       "4          9,0  A aimé  · Le calme, la beauté du riad et cet e...  \n",
       "5          8,0  A aimé  · Lieu très beau, très propre dans l’e...  \n",
       "6          9,0  A aimé  · Le personnel au petit soin et agréab...  \n",
       "7          8,0     A aimé  · L'emplacement, la déco, le personnel  \n",
       "8          9,0  A aimé  · le tout entre la décoration, la prop...  \n",
       "9           10        A aimé  · Riad très bien placé et très joli  "
      ]
     },
     "execution_count": 116,
     "metadata": {},
     "output_type": "execute_result"
    }
   ],
   "source": [
    "#on a changé le nom de Try5 à Comments12\n",
    "df = pd.read_csv('Comments12.csv')\n",
    "df.head(10) \n"
   ]
  },
  {
   "cell_type": "code",
   "execution_count": 117,
   "id": "a0db21ca",
   "metadata": {},
   "outputs": [
    {
     "data": {
      "text/html": [
       "<div>\n",
       "<style scoped>\n",
       "    .dataframe tbody tr th:only-of-type {\n",
       "        vertical-align: middle;\n",
       "    }\n",
       "\n",
       "    .dataframe tbody tr th {\n",
       "        vertical-align: top;\n",
       "    }\n",
       "\n",
       "    .dataframe thead th {\n",
       "        text-align: right;\n",
       "    }\n",
       "</style>\n",
       "<table border=\"1\" class=\"dataframe\">\n",
       "  <thead>\n",
       "    <tr style=\"text-align: right;\">\n",
       "      <th></th>\n",
       "      <th>Editeur</th>\n",
       "      <th>Nationalite</th>\n",
       "      <th>Chambre</th>\n",
       "      <th>Duree</th>\n",
       "      <th>Review_title</th>\n",
       "      <th>Review_score</th>\n",
       "      <th>Commentaire</th>\n",
       "    </tr>\n",
       "  </thead>\n",
       "  <tbody>\n",
       "    <tr>\n",
       "      <th>10751</th>\n",
       "      <td>Lorenzo</td>\n",
       "      <td>Italie</td>\n",
       "      <td>Suite Sultana</td>\n",
       "      <td>4 nuits · novembre 2019</td>\n",
       "      <td>Très bien</td>\n",
       "      <td>8,0</td>\n",
       "      <td>Ce client n'a pas laissé de commentaire.</td>\n",
       "    </tr>\n",
       "    <tr>\n",
       "      <th>10752</th>\n",
       "      <td>Anonyme</td>\n",
       "      <td>Irlande</td>\n",
       "      <td>1 nuit · \\n\\noctobre 2021</td>\n",
       "      <td>1 nuit · octobre 2021</td>\n",
       "      <td>Exceptionnel</td>\n",
       "      <td>10</td>\n",
       "      <td>Ce client n'a pas laissé de commentaire.</td>\n",
       "    </tr>\n",
       "    <tr>\n",
       "      <th>10753</th>\n",
       "      <td>Anonyme</td>\n",
       "      <td>Espagne</td>\n",
       "      <td>3 nuits · \\n\\ndécembre 2019</td>\n",
       "      <td>3 nuits · décembre 2019</td>\n",
       "      <td>Fabuleux</td>\n",
       "      <td>9,2</td>\n",
       "      <td>Ce client n'a pas laissé de commentaire.</td>\n",
       "    </tr>\n",
       "    <tr>\n",
       "      <th>10754</th>\n",
       "      <td>Anonyme</td>\n",
       "      <td>Espagne</td>\n",
       "      <td>2 nuits · \\n\\ndécembre 2019</td>\n",
       "      <td>2 nuits · décembre 2019</td>\n",
       "      <td>Fabuleux</td>\n",
       "      <td>9,2</td>\n",
       "      <td>Ce client n'a pas laissé de commentaire.</td>\n",
       "    </tr>\n",
       "    <tr>\n",
       "      <th>10755</th>\n",
       "      <td>Anonyme</td>\n",
       "      <td>Espagne</td>\n",
       "      <td>3 nuits · \\n\\nnovembre 2019</td>\n",
       "      <td>3 nuits · novembre 2019</td>\n",
       "      <td>Fabuleux</td>\n",
       "      <td>9,0</td>\n",
       "      <td>Ce client n'a pas laissé de commentaire.</td>\n",
       "    </tr>\n",
       "  </tbody>\n",
       "</table>\n",
       "</div>"
      ],
      "text/plain": [
       "       Editeur Nationalite                      Chambre  \\\n",
       "10751  Lorenzo      Italie                Suite Sultana   \n",
       "10752  Anonyme     Irlande    1 nuit · \\n\\noctobre 2021   \n",
       "10753  Anonyme     Espagne  3 nuits · \\n\\ndécembre 2019   \n",
       "10754  Anonyme     Espagne  2 nuits · \\n\\ndécembre 2019   \n",
       "10755  Anonyme     Espagne  3 nuits · \\n\\nnovembre 2019   \n",
       "\n",
       "                         Duree  Review_title Review_score  \\\n",
       "10751  4 nuits · novembre 2019     Très bien          8,0   \n",
       "10752    1 nuit · octobre 2021  Exceptionnel           10   \n",
       "10753  3 nuits · décembre 2019      Fabuleux          9,2   \n",
       "10754  2 nuits · décembre 2019      Fabuleux          9,2   \n",
       "10755  3 nuits · novembre 2019      Fabuleux          9,0   \n",
       "\n",
       "                                    Commentaire  \n",
       "10751  Ce client n'a pas laissé de commentaire.  \n",
       "10752  Ce client n'a pas laissé de commentaire.  \n",
       "10753  Ce client n'a pas laissé de commentaire.  \n",
       "10754  Ce client n'a pas laissé de commentaire.  \n",
       "10755  Ce client n'a pas laissé de commentaire.  "
      ]
     },
     "execution_count": 117,
     "metadata": {},
     "output_type": "execute_result"
    }
   ],
   "source": [
    "df.tail(5)"
   ]
  },
  {
   "cell_type": "code",
   "execution_count": 118,
   "id": "4d9268fa",
   "metadata": {},
   "outputs": [
    {
     "data": {
      "text/plain": [
       "(10756, 7)"
      ]
     },
     "execution_count": 118,
     "metadata": {},
     "output_type": "execute_result"
    }
   ],
   "source": [
    "df.shape"
   ]
  }
 ],
 "metadata": {
  "kernelspec": {
   "display_name": "Python 3 (ipykernel)",
   "language": "python",
   "name": "python3"
  },
  "language_info": {
   "codemirror_mode": {
    "name": "ipython",
    "version": 3
   },
   "file_extension": ".py",
   "mimetype": "text/x-python",
   "name": "python",
   "nbconvert_exporter": "python",
   "pygments_lexer": "ipython3",
   "version": "3.10.4"
  }
 },
 "nbformat": 4,
 "nbformat_minor": 5
}
